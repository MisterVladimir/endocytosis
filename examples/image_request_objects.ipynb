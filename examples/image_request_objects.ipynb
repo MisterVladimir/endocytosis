{
 "cells": [
  {
   "cell_type": "code",
   "execution_count": 1,
   "metadata": {},
   "outputs": [],
   "source": [
    "\"\"\"\n",
    "Features of ImageRequest objects. These are found in endocytosis.io.image.datasources\n",
    "\"\"\"\n",
    "import numpy as np\n",
    "from endocytosis.io.image.datasources import tiff_datasource, base_datasource"
   ]
  },
  {
   "cell_type": "code",
   "execution_count": 2,
   "metadata": {},
   "outputs": [],
   "source": [
    "# instanstiate by naming the order the image dimensions appear in\n",
    "# and the shape of each dimension **in CTZXY order**\n",
    "req = tiff_datasource.TiffImageRequest('XYCZT', 1, 6, 61, 1024, 1024)"
   ]
  },
  {
   "cell_type": "code",
   "execution_count": 3,
   "metadata": {},
   "outputs": [
    {
     "data": {
      "text/plain": [
       "(144, slice(None, None, None), slice(None, None, None))"
      ]
     },
     "execution_count": 3,
     "metadata": {},
     "output_type": "execute_result"
    }
   ],
   "source": [
    "# call the Request object with the C, T, Z and optionally XY slices\n",
    "# Request.__call__() unravels the CTZ index appropriate according to\n",
    "# the image dimensions (Request.image_shape)\n",
    "# this is used to get Page of correct index in a TiffFile\n",
    "req(0, 2, 22)"
   ]
  },
  {
   "cell_type": "code",
   "execution_count": 4,
   "metadata": {},
   "outputs": [
    {
     "data": {
      "text/plain": [
       "[0, 2, 22, slice(None, None, None), slice(None, None, None)]"
      ]
     },
     "execution_count": 4,
     "metadata": {},
     "output_type": "execute_result"
    }
   ],
   "source": [
    "# Request objects' __getitem__ may use slice objects since \n",
    "# keys are ordered\n",
    "req[slice(5)]"
   ]
  },
  {
   "cell_type": "code",
   "execution_count": 5,
   "metadata": {},
   "outputs": [
    {
     "data": {
      "text/plain": [
       "TiffImageRequest([('C', 0),\n",
       "                  ('T', 1),\n",
       "                  ('Z', 2),\n",
       "                  ('X', slice(None, None, None)),\n",
       "                  ('Y', slice(None, None, None))])"
      ]
     },
     "execution_count": 5,
     "metadata": {},
     "output_type": "execute_result"
    }
   ],
   "source": [
    "# a multi-character string may be used to enter multiple keys\n",
    "req['CTZXY'] = [0, 1, 2, slice(None), slice(None)]\n",
    "req"
   ]
  },
  {
   "cell_type": "code",
   "execution_count": 6,
   "metadata": {},
   "outputs": [
    {
     "data": {
      "text/plain": [
       "IntIndexDict()"
      ]
     },
     "execution_count": 6,
     "metadata": {},
     "output_type": "execute_result"
    }
   ],
   "source": [
    "# parent class of BaseImageRequest (which itself is the parent class of TiffImageRequest)\n",
    "# basically, it's an OrderedDict whose values may be retrieved by their index within the keys list\n",
    "# slices may also be used as keys\n",
    "base_datasource.IntIndexDict()"
   ]
  },
  {
   "cell_type": "code",
   "execution_count": null,
   "metadata": {},
   "outputs": [],
   "source": []
  }
 ],
 "metadata": {
  "kernelspec": {
   "display_name": "Python (tensorflow)",
   "language": "python",
   "name": "tensorflow"
  },
  "language_info": {
   "codemirror_mode": {
    "name": "ipython",
    "version": 3
   },
   "file_extension": ".py",
   "mimetype": "text/x-python",
   "name": "python",
   "nbconvert_exporter": "python",
   "pygments_lexer": "ipython3",
   "version": "3.6.6"
  }
 },
 "nbformat": 4,
 "nbformat_minor": 2
}
