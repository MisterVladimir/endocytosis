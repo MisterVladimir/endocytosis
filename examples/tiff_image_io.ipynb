{
 "cells": [
  {
   "cell_type": "code",
   "execution_count": 1,
   "metadata": {},
   "outputs": [],
   "source": [
    "import numpy as np\n",
    "\n",
    "import endocytosis.io.image.image_reader as image_reader\n",
    "# import endocytosis.contrib.gohlke.tifffile as tifffile"
   ]
  },
  {
   "cell_type": "code",
   "execution_count": 2,
   "metadata": {},
   "outputs": [],
   "source": [
    "path = r'D:\\\\endocytosis_data_subset\\\\2016-12-14 iso\\\\2016-12-14 Sp57 proto +050 001\\\\2016-12-14 Sp57 proto +050 001.tif'"
   ]
  },
  {
   "cell_type": "code",
   "execution_count": 3,
   "metadata": {},
   "outputs": [],
   "source": [
    "# instantiate ImageReader\n",
    "reader = image_reader.ImageReader()"
   ]
  },
  {
   "cell_type": "code",
   "execution_count": 4,
   "metadata": {},
   "outputs": [],
   "source": [
    "# once load() method is executed, image data and metadata\n",
    "# can be accessed via the data and metadata attributes, respectively\n",
    "reader.load(path)"
   ]
  },
  {
   "cell_type": "code",
   "execution_count": 5,
   "metadata": {},
   "outputs": [
    {
     "name": "stdout",
     "output_type": "stream",
     "text": [
      "shape: (1024, 1024)\n",
      "data: [[504 488 507 ... 469 511 491]\n",
      " [517 509 504 ... 496 487 472]\n",
      " [499 488 490 ... 481 481 475]\n",
      " ...\n",
      " [489 510 486 ... 484 469 484]\n",
      " [480 492 527 ... 486 503 514]\n",
      " [492 520 511 ... 505 512 494]]\n"
     ]
    }
   ],
   "source": [
    "# image data is retrieved as np.ndarray via the request() method of the datasource\n",
    "# arguments must be listed in c, t, z order\n",
    "\n",
    "# single image\n",
    "arg = (0, 10, 5)\n",
    "print(\"shape: {}\".format(reader.data.request(*arg).shape))\n",
    "print(\"data: {}\".format(reader.data.request(*arg)))"
   ]
  },
  {
   "cell_type": "code",
   "execution_count": 6,
   "metadata": {},
   "outputs": [
    {
     "name": "stdout",
     "output_type": "stream",
     "text": [
      "shape: (1024, 1024)\n",
      "data:\n",
      "[[504 488 507 ... 469 511 491]\n",
      " [517 509 504 ... 496 487 472]\n",
      " [499 488 490 ... 481 481 475]\n",
      " ...\n",
      " [489 510 486 ... 484 469 484]\n",
      " [480 492 527 ... 486 503 514]\n",
      " [492 520 511 ... 505 512 494]]\n"
     ]
    }
   ],
   "source": [
    "# if no parameters are entered into the .request() method, \n",
    "# simply retrieve the last requested image\n",
    "# (tifffile caches these images)\n",
    "print(\"shape: {}\".format(reader.data.request().shape))\n",
    "print(\"data:\\n{}\".format(reader.data.request()))"
   ]
  },
  {
   "cell_type": "code",
   "execution_count": 13,
   "metadata": {},
   "outputs": [
    {
     "name": "stdout",
     "output_type": "stream",
     "text": [
      "shape: (10, 1024, 1024)\n",
      "data:\n",
      "[[[494 487 483 ... 489 504 510]\n",
      "  [484 485 503 ... 491 508 486]\n",
      "  [495 503 491 ... 459 489 504]\n",
      "  ...\n",
      "  [497 564 520 ... 472 475 473]\n",
      "  [506 500 490 ... 518 516 495]\n",
      "  [536 522 516 ... 507 510 506]]\n",
      "\n",
      " [[508 517 510 ... 494 513 499]\n",
      "  [505 513 493 ... 491 509 510]\n",
      "  [523 540 512 ... 515 532 522]\n",
      "  ...\n",
      "  [492 536 513 ... 484 484 503]\n",
      "  [526 510 493 ... 491 510 513]\n",
      "  [512 491 497 ... 515 530 525]]\n",
      "\n",
      " [[502 490 450 ... 511 502 513]\n",
      "  [510 512 510 ... 476 470 500]\n",
      "  [490 503 480 ... 493 504 489]\n",
      "  ...\n",
      "  [497 491 477 ... 515 532 521]\n",
      "  [529 517 485 ... 476 472 486]\n",
      "  [542 538 552 ... 497 554 491]]\n",
      "\n",
      " ...\n",
      "\n",
      " [[499 485 503 ... 470 477 498]\n",
      "  [497 509 528 ... 497 507 504]\n",
      "  [511 517 507 ... 520 507 466]\n",
      "  ...\n",
      "  [524 523 521 ... 512 534 492]\n",
      "  [500 493 541 ... 497 477 474]\n",
      "  [545 504 518 ... 525 514 533]]\n",
      "\n",
      " [[507 495 472 ... 493 512 490]\n",
      "  [528 496 479 ... 487 479 488]\n",
      "  [483 494 494 ... 538 509 473]\n",
      "  ...\n",
      "  [479 539 528 ... 510 473 494]\n",
      "  [504 475 514 ... 502 488 479]\n",
      "  [481 498 532 ... 495 499 500]]\n",
      "\n",
      " [[493 495 492 ... 508 504 494]\n",
      "  [501 543 509 ... 527 491 488]\n",
      "  [494 483 497 ... 507 530 507]\n",
      "  ...\n",
      "  [515 557 527 ... 513 509 506]\n",
      "  [522 499 567 ... 569 520 510]\n",
      "  [521 578 502 ... 508 505 486]]]\n",
      "page indices: 5, 11, 17, 23, 29, 35, 41, 47, 53, 59, 65, 71, 77, 83, 89, 95, 101, 107, 113, 119\n"
     ]
    }
   ],
   "source": [
    "# use a slice argument to get a stack of images\n",
    "# currently only slicing in one dimension is supported\n",
    "arg = (0, slice(10), 5)\n",
    "print(\"shape: {}\".format(reader.data.request(*arg).shape))\n",
    "print(\"data:\\n{}\".format(reader.data.request(*arg)))\n",
    "tif_page_numbers = reader.data._request(0, slice(20), 5)[0]\n",
    "print(\"page indices: {}\".format(\", \".join(map(str, tif_page_numbers))))"
   ]
  },
  {
   "cell_type": "code",
   "execution_count": 14,
   "metadata": {},
   "outputs": [],
   "source": [
    "# close the tiff file\n",
    "reader.cleanup()"
   ]
  },
  {
   "cell_type": "code",
   "execution_count": null,
   "metadata": {},
   "outputs": [],
   "source": []
  }
 ],
 "metadata": {
  "kernelspec": {
   "display_name": "Python (tensorflow)",
   "language": "python",
   "name": "tensorflow"
  },
  "language_info": {
   "codemirror_mode": {
    "name": "ipython",
    "version": 3
   },
   "file_extension": ".py",
   "mimetype": "text/x-python",
   "name": "python",
   "nbconvert_exporter": "python",
   "pygments_lexer": "ipython3",
   "version": "3.6.6"
  }
 },
 "nbformat": 4,
 "nbformat_minor": 2
}
