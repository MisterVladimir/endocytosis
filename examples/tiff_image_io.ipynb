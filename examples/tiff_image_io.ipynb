{
 "cells": [
  {
   "cell_type": "code",
   "execution_count": 1,
   "metadata": {},
   "outputs": [],
   "source": [
    "import numpy as np\n",
    "\n",
    "import endocytosis.io.image.image_reader as image_reader"
   ]
  },
  {
   "cell_type": "code",
   "execution_count": 2,
   "metadata": {},
   "outputs": [],
   "source": [
    "path = r'D:\\\\endocytosis_data_subset\\\\2016-12-14 iso\\\\2016-12-14 Sp57 proto 003\\\\2016-12-14 Sp57 proto 003.tif'"
   ]
  },
  {
   "cell_type": "code",
   "execution_count": 3,
   "metadata": {},
   "outputs": [],
   "source": [
    "# instantiate ImageReader\n",
    "reader = image_reader.ImageReader()"
   ]
  },
  {
   "cell_type": "code",
   "execution_count": 4,
   "metadata": {},
   "outputs": [],
   "source": [
    "# once load() method is executed, image data and metadata\n",
    "# can be accessed via the data and metadata attributes, respectively\n",
    "reader.load(path)"
   ]
  },
  {
   "cell_type": "code",
   "execution_count": 5,
   "metadata": {},
   "outputs": [
    {
     "data": {
      "text/plain": [
       "{'filename': '2016-12-14 Sp57 proto 003.tif',\n",
       " 'DimensionOrder': 'XYCZT',\n",
       " 'SizeC': '1',\n",
       " 'SizeT': '61',\n",
       " 'SizeX': '1024',\n",
       " 'SizeY': '1024',\n",
       " 'SizeZ': '6',\n",
       " 'pixelsize': 0.13000013000013,\n",
       " 'unit': 'um'}"
      ]
     },
     "execution_count": 5,
     "metadata": {},
     "output_type": "execute_result"
    }
   ],
   "source": [
    "# select mage metadata\n",
    "reader.metadata"
   ]
  },
  {
   "cell_type": "code",
   "execution_count": 6,
   "metadata": {},
   "outputs": [
    {
     "data": {
      "text/plain": [
       "array([[513, 480, 522, ..., 491, 485, 518],\n",
       "       [530, 490, 477, ..., 487, 497, 491],\n",
       "       [504, 506, 488, ..., 497, 475, 486],\n",
       "       ...,\n",
       "       [489, 481, 520, ..., 515, 506, 572],\n",
       "       [507, 499, 541, ..., 499, 506, 529],\n",
       "       [553, 529, 567, ..., 545, 489, 508]], dtype=uint16)"
      ]
     },
     "execution_count": 6,
     "metadata": {},
     "output_type": "execute_result"
    }
   ],
   "source": [
    "# image data is retrieved as np.ndarray via the request() method of the datasource\n",
    "reader.data.request(0, 1, 1)"
   ]
  },
  {
   "cell_type": "code",
   "execution_count": 7,
   "metadata": {},
   "outputs": [],
   "source": [
    "# close the tiff file\n",
    "reader.cleanup()"
   ]
  },
  {
   "cell_type": "code",
   "execution_count": null,
   "metadata": {},
   "outputs": [],
   "source": []
  }
 ],
 "metadata": {
  "kernelspec": {
   "display_name": "Python (tensorflow)",
   "language": "python",
   "name": "tensorflow"
  },
  "language_info": {
   "codemirror_mode": {
    "name": "ipython",
    "version": 3
   },
   "file_extension": ".py",
   "mimetype": "text/x-python",
   "name": "python",
   "nbconvert_exporter": "python",
   "pygments_lexer": "ipython3",
   "version": "3.6.6"
  }
 },
 "nbformat": 4,
 "nbformat_minor": 2
}
