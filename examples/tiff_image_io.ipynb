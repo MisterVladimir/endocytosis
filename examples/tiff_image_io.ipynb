{
 "cells": [
  {
   "cell_type": "code",
   "execution_count": 34,
   "metadata": {},
   "outputs": [],
   "source": [
    "import numpy as np\n",
    "\n",
    "import endocytosis.io.image.image_reader as image_reader\n",
    "import endocytosis.contrib.gohlke.tifffile as tifffile"
   ]
  },
  {
   "cell_type": "code",
   "execution_count": 2,
   "metadata": {},
   "outputs": [],
   "source": [
    "path = r'C:\\Users\\v\\Anaconda3\\envs\\tensorflow\\projects\\imagej\\2016-12-14 Sp57 proto +050 001\\image.ome.tif'"
   ]
  },
  {
   "cell_type": "code",
   "execution_count": 3,
   "metadata": {},
   "outputs": [],
   "source": [
    "# instantiate ImageReader\n",
    "reader = image_reader.ImageReader()"
   ]
  },
  {
   "cell_type": "code",
   "execution_count": 4,
   "metadata": {},
   "outputs": [
    {
     "name": "stdout",
     "output_type": "stream",
     "text": [
      "None\n"
     ]
    }
   ],
   "source": [
    "# once load() method is executed, image data and metadata\n",
    "# can be accessed via the data and metadata attributes, respectively\n",
    "reader.load(path)"
   ]
  },
  {
   "cell_type": "code",
   "execution_count": 5,
   "metadata": {},
   "outputs": [],
   "source": [
    "# select mage metadata\n",
    "md = reader.metadata\n",
    "reader.cleanup()"
   ]
  },
  {
   "cell_type": "code",
   "execution_count": 6,
   "metadata": {},
   "outputs": [
    {
     "name": "stdout",
     "output_type": "stream",
     "text": [
      "False True False\n"
     ]
    }
   ],
   "source": [
    "print(reader.is_imagej, reader.is_ome, reader.is_nih)"
   ]
  },
  {
   "cell_type": "code",
   "execution_count": 58,
   "metadata": {},
   "outputs": [
    {
     "name": "stdout",
     "output_type": "stream",
     "text": [
      "dict_keys(['Channel', 'TiffData', 'DimensionOrder', 'ID', 'PhysicalSizeX', 'PhysicalSizeXUnit', 'PhysicalSizeY', 'PhysicalSizeYUnit', 'PhysicalSizeZ', 'PhysicalSizeZUnit', 'SizeC', 'SizeT', 'SizeX', 'SizeY', 'SizeZ', 'TimeIncrement', 'TimeIncrementUnit', 'Type'])\n",
      "DimensionOrder XYCZT\n",
      "PhysicalSizeX 0.13000013000013\n",
      "PhysicalSizeXUnit µm\n",
      "PhysicalSizeY 0.13000013000013\n",
      "PhysicalSizeYUnit µm\n",
      "PhysicalSizeZ 0.13000013000013\n",
      "PhysicalSizeZUnit µm\n",
      "SizeC 1\n",
      "SizeT 61\n",
      "SizeX 1024\n",
      "SizeY 1024\n",
      "SizeZ 1\n",
      "TimeIncrement 0.9953396320343018\n",
      "TimeIncrementUnit s\n"
     ]
    }
   ],
   "source": [
    "keep = ('DimensionOrder', )\n",
    "print(md['Image']['Pixels'].keys())\n",
    "for k, v in md['Image']['Pixels'].items():\n",
    "    if not k in ('Channel', 'TiffData', 'ID', 'Type'):\n",
    "        print(k, v)"
   ]
  },
  {
   "cell_type": "code",
   "execution_count": 35,
   "metadata": {},
   "outputs": [],
   "source": [
    "im = None\n",
    "with tifffile.TiffFile(path) as f: \n",
    "    im = f.asarray()"
   ]
  },
  {
   "cell_type": "code",
   "execution_count": 38,
   "metadata": {},
   "outputs": [],
   "source": [
    "with tifffile.TiffWriter(r\"C:\\Users\\v\\Anaconda3\\envs\\tensorflow\\projects\\imagej\\2016-12-14 Sp57 proto +050 001\\gohlke.tif\") as f:\n",
    "    f.save(im)"
   ]
  },
  {
   "cell_type": "code",
   "execution_count": 44,
   "metadata": {},
   "outputs": [],
   "source": [
    "f = tifffile.TiffFile(r\"C:\\Users\\v\\Anaconda3\\envs\\tensorflow\\projects\\imagej\\2016-12-14 Sp57 proto +050 001\\gohlke.tif\")"
   ]
  },
  {
   "cell_type": "code",
   "execution_count": 48,
   "metadata": {},
   "outputs": [
    {
     "data": {
      "text/plain": [
       "{'parent': <endocytosis.contrib.gohlke.tifffile.TiffFile at 0x214ca1374e0>,\n",
       " 'index': 0,\n",
       " 'shape': (1024, 1024),\n",
       " '_shape': (1, 1, 1, 1024, 1024, 1),\n",
       " 'dtype': dtype('float32'),\n",
       " '_dtype': dtype('float32'),\n",
       " 'axes': 'YX',\n",
       " 'tags': {'NewSubfileType': <endocytosis.contrib.gohlke.tifffile.TiffTag at 0x214ca171d68>,\n",
       "  'ImageWidth': <endocytosis.contrib.gohlke.tifffile.TiffTag at 0x214ca171ef8>,\n",
       "  'ImageLength': <endocytosis.contrib.gohlke.tifffile.TiffTag at 0x214ca171e08>,\n",
       "  'BitsPerSample': <endocytosis.contrib.gohlke.tifffile.TiffTag at 0x214ca171c78>,\n",
       "  'Compression': <endocytosis.contrib.gohlke.tifffile.TiffTag at 0x214ca171cc8>,\n",
       "  'PhotometricInterpretation': <endocytosis.contrib.gohlke.tifffile.TiffTag at 0x214ca171bd8>,\n",
       "  'ImageDescription': <endocytosis.contrib.gohlke.tifffile.TiffTag at 0x214ca171c28>,\n",
       "  'StripOffsets': <endocytosis.contrib.gohlke.tifffile.TiffTag at 0x214ca171b88>,\n",
       "  'SamplesPerPixel': <endocytosis.contrib.gohlke.tifffile.TiffTag at 0x214ca171a98>,\n",
       "  'RowsPerStrip': <endocytosis.contrib.gohlke.tifffile.TiffTag at 0x214ca171ae8>,\n",
       "  'StripByteCounts': <endocytosis.contrib.gohlke.tifffile.TiffTag at 0x214ca1719f8>,\n",
       "  'XResolution': <endocytosis.contrib.gohlke.tifffile.TiffTag at 0x214ca171a48>,\n",
       "  'YResolution': <endocytosis.contrib.gohlke.tifffile.TiffTag at 0x214ca171958>,\n",
       "  'ResolutionUnit': <endocytosis.contrib.gohlke.tifffile.TiffTag at 0x214ca1719a8>,\n",
       "  'Software': <endocytosis.contrib.gohlke.tifffile.TiffTag at 0x214ca1718b8>,\n",
       "  'DateTime': <endocytosis.contrib.gohlke.tifffile.TiffTag at 0x214ca171908>,\n",
       "  'SampleFormat': <endocytosis.contrib.gohlke.tifffile.TiffTag at 0x214ca171818>},\n",
       " 'dataoffsets': (368,),\n",
       " 'databytecounts': (4194304,),\n",
       " 'offset': 8,\n",
       " 'imagewidth': 1024,\n",
       " 'imagelength': 1024,\n",
       " 'bitspersample': 32,\n",
       " 'compression': <COMPRESSION.NONE: 1>,\n",
       " 'photometric': <PHOTOMETRIC.MINISBLACK: 1>,\n",
       " 'description': '{\"shape\": [61, 1024, 1024]}',\n",
       " 'samplesperpixel': 1,\n",
       " 'rowsperstrip': 1024,\n",
       " 'software': 'tifffile.py',\n",
       " 'sampleformat': <SAMPLEFORMAT.IEEEFP: 3>,\n",
       " 'is_imagej': None}"
      ]
     },
     "execution_count": 48,
     "metadata": {},
     "output_type": "execute_result"
    }
   ],
   "source": [
    "f.pages[0].__dict__"
   ]
  },
  {
   "cell_type": "code",
   "execution_count": 52,
   "metadata": {},
   "outputs": [
    {
     "name": "stdout",
     "output_type": "stream",
     "text": [
      "NewSubfileType: TiffTag 254 NewSubfileType  1I @222  0\n",
      "ImageWidth: TiffTag 256 ImageWidth  1I @222  1024\n",
      "ImageLength: TiffTag 257 ImageLength  1I @222  1024\n",
      "BitsPerSample: TiffTag 258 BitsPerSample  1H @222  32\n",
      "Compression: TiffTag 259 Compression  1H @222  NONE\n",
      "PhotometricInterpretation: TiffTag 262 PhotometricInterpretation  1H @222  MINISBLACK\n",
      "ImageDescription: TiffTag 270 ImageDescription  28s @218  {\"shape\": [61, 1024, 1024]}\n",
      "StripOffsets: TiffTag 273 StripOffsets  1I @254  (368,)\n",
      "SamplesPerPixel: TiffTag 277 SamplesPerPixel  1H @254  1\n",
      "RowsPerStrip: TiffTag 278 RowsPerStrip  1I @254  1024\n",
      "StripByteCounts: TiffTag 279 StripByteCounts  1I @254  (4194304,)\n",
      "XResolution: TiffTag 282 XResolution  2I @310  (1, 1)\n",
      "YResolution: TiffTag 283 YResolution  2I @318  (1, 1)\n",
      "ResolutionUnit: TiffTag 296 ResolutionUnit  1H @334  NONE\n",
      "Software: TiffTag 305 Software  12s @326  tifffile.py\n",
      "DateTime: TiffTag 306 DateTime  20s @338  2018:08:18 17:27:23\n",
      "SampleFormat: TiffTag 339 SampleFormat  1H @366  IEEEFP\n"
     ]
    }
   ],
   "source": [
    "for k, v in f.pages[0].tags.items():\n",
    "    print(\"{}: {}\".format(k, v))"
   ]
  },
  {
   "cell_type": "code",
   "execution_count": null,
   "metadata": {},
   "outputs": [],
   "source": [
    "f."
   ]
  },
  {
   "cell_type": "code",
   "execution_count": null,
   "metadata": {},
   "outputs": [],
   "source": []
  },
  {
   "cell_type": "code",
   "execution_count": null,
   "metadata": {},
   "outputs": [],
   "source": []
  },
  {
   "cell_type": "code",
   "execution_count": null,
   "metadata": {},
   "outputs": [],
   "source": []
  },
  {
   "cell_type": "code",
   "execution_count": null,
   "metadata": {},
   "outputs": [],
   "source": []
  },
  {
   "cell_type": "code",
   "execution_count": null,
   "metadata": {},
   "outputs": [],
   "source": []
  },
  {
   "cell_type": "code",
   "execution_count": null,
   "metadata": {},
   "outputs": [],
   "source": []
  },
  {
   "cell_type": "code",
   "execution_count": null,
   "metadata": {},
   "outputs": [],
   "source": []
  },
  {
   "cell_type": "code",
   "execution_count": null,
   "metadata": {},
   "outputs": [],
   "source": []
  },
  {
   "cell_type": "code",
   "execution_count": null,
   "metadata": {},
   "outputs": [],
   "source": []
  },
  {
   "cell_type": "code",
   "execution_count": null,
   "metadata": {},
   "outputs": [],
   "source": []
  },
  {
   "cell_type": "code",
   "execution_count": null,
   "metadata": {},
   "outputs": [],
   "source": []
  },
  {
   "cell_type": "code",
   "execution_count": null,
   "metadata": {},
   "outputs": [],
   "source": []
  },
  {
   "cell_type": "code",
   "execution_count": null,
   "metadata": {},
   "outputs": [],
   "source": []
  },
  {
   "cell_type": "code",
   "execution_count": null,
   "metadata": {},
   "outputs": [],
   "source": []
  },
  {
   "cell_type": "code",
   "execution_count": null,
   "metadata": {},
   "outputs": [],
   "source": []
  },
  {
   "cell_type": "code",
   "execution_count": null,
   "metadata": {},
   "outputs": [],
   "source": []
  },
  {
   "cell_type": "code",
   "execution_count": null,
   "metadata": {},
   "outputs": [],
   "source": []
  },
  {
   "cell_type": "code",
   "execution_count": null,
   "metadata": {},
   "outputs": [],
   "source": []
  },
  {
   "cell_type": "code",
   "execution_count": 8,
   "metadata": {},
   "outputs": [
    {
     "ename": "AttributeError",
     "evalue": "'ImageReader' object has no attribute 'data'",
     "output_type": "error",
     "traceback": [
      "\u001b[1;31m---------------------------------------------------------------------------\u001b[0m",
      "\u001b[1;31mAttributeError\u001b[0m                            Traceback (most recent call last)",
      "\u001b[1;32m<ipython-input-8-e1c94020029c>\u001b[0m in \u001b[0;36m<module>\u001b[1;34m()\u001b[0m\n\u001b[0;32m      4\u001b[0m \u001b[1;31m# single image\u001b[0m\u001b[1;33m\u001b[0m\u001b[1;33m\u001b[0m\u001b[0m\n\u001b[0;32m      5\u001b[0m \u001b[0marg\u001b[0m \u001b[1;33m=\u001b[0m \u001b[1;33m(\u001b[0m\u001b[1;36m0\u001b[0m\u001b[1;33m,\u001b[0m \u001b[1;36m10\u001b[0m\u001b[1;33m,\u001b[0m \u001b[1;36m5\u001b[0m\u001b[1;33m)\u001b[0m\u001b[1;33m\u001b[0m\u001b[0m\n\u001b[1;32m----> 6\u001b[1;33m \u001b[0mprint\u001b[0m\u001b[1;33m(\u001b[0m\u001b[1;34m\"shape: {}\"\u001b[0m\u001b[1;33m.\u001b[0m\u001b[0mformat\u001b[0m\u001b[1;33m(\u001b[0m\u001b[0mreader\u001b[0m\u001b[1;33m.\u001b[0m\u001b[0mdata\u001b[0m\u001b[1;33m.\u001b[0m\u001b[0mrequest\u001b[0m\u001b[1;33m(\u001b[0m\u001b[1;33m*\u001b[0m\u001b[0marg\u001b[0m\u001b[1;33m)\u001b[0m\u001b[1;33m.\u001b[0m\u001b[0mshape\u001b[0m\u001b[1;33m)\u001b[0m\u001b[1;33m)\u001b[0m\u001b[1;33m\u001b[0m\u001b[0m\n\u001b[0m\u001b[0;32m      7\u001b[0m \u001b[0mprint\u001b[0m\u001b[1;33m(\u001b[0m\u001b[1;34m\"data: {}\"\u001b[0m\u001b[1;33m.\u001b[0m\u001b[0mformat\u001b[0m\u001b[1;33m(\u001b[0m\u001b[0mreader\u001b[0m\u001b[1;33m.\u001b[0m\u001b[0mdata\u001b[0m\u001b[1;33m.\u001b[0m\u001b[0mrequest\u001b[0m\u001b[1;33m(\u001b[0m\u001b[1;33m*\u001b[0m\u001b[0marg\u001b[0m\u001b[1;33m)\u001b[0m\u001b[1;33m)\u001b[0m\u001b[1;33m)\u001b[0m\u001b[1;33m\u001b[0m\u001b[0m\n",
      "\u001b[1;31mAttributeError\u001b[0m: 'ImageReader' object has no attribute 'data'"
     ]
    }
   ],
   "source": [
    "# image data is retrieved as np.ndarray via the request() method of the datasource\n",
    "# arguments must be listed in c, t, z order\n",
    "\n",
    "# single image\n",
    "arg = (0, 10, 5)\n",
    "print(\"shape: {}\".format(reader.data.request(*arg).shape))\n",
    "print(\"data: {}\".format(reader.data.request(*arg)))"
   ]
  },
  {
   "cell_type": "code",
   "execution_count": 7,
   "metadata": {},
   "outputs": [
    {
     "name": "stdout",
     "output_type": "stream",
     "text": [
      "shape: (1024, 1024)\n",
      "data:\n",
      "[[576 519 506 ... 521 482 483]\n",
      " [516 545 550 ... 522 512 502]\n",
      " [532 487 552 ... 521 492 490]\n",
      " ...\n",
      " [504 484 495 ... 503 506 497]\n",
      " [485 488 529 ... 502 520 508]\n",
      " [511 522 583 ... 516 512 492]]\n"
     ]
    }
   ],
   "source": [
    "# if no parameters are entered into the .request() method, \n",
    "# simply retrieve the last requested image\n",
    "# (tifffile caches these images)\n",
    "print(\"shape: {}\".format(reader.data.request().shape))\n",
    "print(\"data:\\n{}\".format(reader.data.request()))"
   ]
  },
  {
   "cell_type": "code",
   "execution_count": 8,
   "metadata": {},
   "outputs": [
    {
     "name": "stdout",
     "output_type": "stream",
     "text": [
      "shape: (10, 1024, 1024)\n",
      "data:\n",
      "[[[599 696 511 ... 523 528 502]\n",
      "  [671 551 561 ... 497 509 496]\n",
      "  [585 585 578 ... 497 499 527]\n",
      "  ...\n",
      "  [517 508 523 ... 515 504 472]\n",
      "  [501 502 500 ... 582 545 499]\n",
      "  [496 500 497 ... 505 507 493]]\n",
      "\n",
      " [[636 570 610 ... 496 506 503]\n",
      "  [627 620 519 ... 528 475 486]\n",
      "  [546 569 549 ... 493 473 498]\n",
      "  ...\n",
      "  [512 493 507 ... 497 492 522]\n",
      "  [507 512 501 ... 492 494 475]\n",
      "  [544 528 515 ... 501 519 521]]\n",
      "\n",
      " [[701 622 503 ... 486 494 498]\n",
      "  [523 557 498 ... 521 500 499]\n",
      "  [535 532 585 ... 513 491 483]\n",
      "  ...\n",
      "  [555 501 474 ... 546 526 514]\n",
      "  [479 496 514 ... 503 545 503]\n",
      "  [497 504 510 ... 502 492 488]]\n",
      "\n",
      " ...\n",
      "\n",
      " [[576 701 555 ... 499 503 521]\n",
      "  [660 594 647 ... 497 510 511]\n",
      "  [555 606 620 ... 523 497 489]\n",
      "  ...\n",
      "  [553 507 505 ... 500 514 511]\n",
      "  [521 555 516 ... 528 517 531]\n",
      "  [502 506 510 ... 533 531 554]]\n",
      "\n",
      " [[537 637 613 ... 496 520 497]\n",
      "  [520 553 627 ... 496 493 539]\n",
      "  [594 567 585 ... 505 487 482]\n",
      "  ...\n",
      "  [479 463 503 ... 488 514 519]\n",
      "  [498 500 499 ... 573 515 536]\n",
      "  [536 493 483 ... 528 529 539]]\n",
      "\n",
      " [[540 588 517 ... 502 498 514]\n",
      "  [532 512 555 ... 478 513 490]\n",
      "  [516 511 527 ... 508 502 491]\n",
      "  ...\n",
      "  [503 544 519 ... 491 506 511]\n",
      "  [547 499 471 ... 519 484 486]\n",
      "  [524 518 486 ... 499 527 497]]]\n",
      "page indices: [  5  11  17  23  29  35  41  47  53  59  65  71  77  83  89  95 101 107\n",
      " 113 119]\n"
     ]
    }
   ],
   "source": [
    "# use a slice argument to get a stack of images\n",
    "# currently only slicing in one dimension is supported\n",
    "arg = (0, slice(10), 5)\n",
    "print(\"shape: {}\".format(reader.data.request(*arg).shape))\n",
    "print(\"data:\\n{}\".format(reader.data.request(*arg)))\n",
    "print(\"page indices: {}\".format(reader.data._request(0, slice(20), 5)[0]))"
   ]
  },
  {
   "cell_type": "code",
   "execution_count": 9,
   "metadata": {},
   "outputs": [],
   "source": [
    "# close the tiff file\n",
    "reader.cleanup()"
   ]
  },
  {
   "cell_type": "code",
   "execution_count": null,
   "metadata": {},
   "outputs": [],
   "source": []
  },
  {
   "cell_type": "code",
   "execution_count": 53,
   "metadata": {},
   "outputs": [],
   "source": [
    "class A(object):\n",
    "    def __init__(self):\n",
    "        self.data = {'a': 1, 'b': 2}\n",
    "    \n",
    "    def __getitem__(self, key):\n",
    "        \n",
    "        return self.data[key]\n",
    "\n",
    "    def __missing__(self, key):\n",
    "        self[key] = {}\n",
    "        return self[key]\n",
    "\n",
    "    def __setitem__(self, key, value):\n",
    "        self.data[key] = value"
   ]
  },
  {
   "cell_type": "code",
   "execution_count": 54,
   "metadata": {},
   "outputs": [],
   "source": [
    "a = A()"
   ]
  },
  {
   "cell_type": "code",
   "execution_count": 55,
   "metadata": {},
   "outputs": [
    {
     "ename": "KeyError",
     "evalue": "'k'",
     "output_type": "error",
     "traceback": [
      "\u001b[1;31m---------------------------------------------------------------------------\u001b[0m",
      "\u001b[1;31mKeyError\u001b[0m                                  Traceback (most recent call last)",
      "\u001b[1;32m<ipython-input-55-1527c2dcda2f>\u001b[0m in \u001b[0;36m<module>\u001b[1;34m()\u001b[0m\n\u001b[1;32m----> 1\u001b[1;33m \u001b[0ma\u001b[0m\u001b[1;33m[\u001b[0m\u001b[1;34m'k'\u001b[0m\u001b[1;33m]\u001b[0m\u001b[1;33m\u001b[0m\u001b[0m\n\u001b[0m",
      "\u001b[1;32m<ipython-input-53-7bf9f25eaeb1>\u001b[0m in \u001b[0;36m__getitem__\u001b[1;34m(self, key)\u001b[0m\n\u001b[0;32m      4\u001b[0m \u001b[1;33m\u001b[0m\u001b[0m\n\u001b[0;32m      5\u001b[0m     \u001b[1;32mdef\u001b[0m \u001b[0m__getitem__\u001b[0m\u001b[1;33m(\u001b[0m\u001b[0mself\u001b[0m\u001b[1;33m,\u001b[0m \u001b[0mkey\u001b[0m\u001b[1;33m)\u001b[0m\u001b[1;33m:\u001b[0m\u001b[1;33m\u001b[0m\u001b[0m\n\u001b[1;32m----> 6\u001b[1;33m         \u001b[1;32mreturn\u001b[0m \u001b[0mself\u001b[0m\u001b[1;33m.\u001b[0m\u001b[0mdata\u001b[0m\u001b[1;33m[\u001b[0m\u001b[0mkey\u001b[0m\u001b[1;33m]\u001b[0m\u001b[1;33m\u001b[0m\u001b[0m\n\u001b[0m\u001b[0;32m      7\u001b[0m \u001b[1;33m\u001b[0m\u001b[0m\n\u001b[0;32m      8\u001b[0m     \u001b[1;32mdef\u001b[0m \u001b[0m__missing__\u001b[0m\u001b[1;33m(\u001b[0m\u001b[0mself\u001b[0m\u001b[1;33m,\u001b[0m \u001b[0mkey\u001b[0m\u001b[1;33m)\u001b[0m\u001b[1;33m:\u001b[0m\u001b[1;33m\u001b[0m\u001b[0m\n",
      "\u001b[1;31mKeyError\u001b[0m: 'k'"
     ]
    }
   ],
   "source": [
    "a['k']"
   ]
  },
  {
   "cell_type": "code",
   "execution_count": 59,
   "metadata": {},
   "outputs": [
    {
     "data": {
      "text/plain": [
       "array([-5])"
      ]
     },
     "execution_count": 59,
     "metadata": {},
     "output_type": "execute_result"
    }
   ],
   "source": [
    "[0] - np.array((5,))"
   ]
  },
  {
   "cell_type": "code",
   "execution_count": null,
   "metadata": {},
   "outputs": [],
   "source": []
  }
 ],
 "metadata": {
  "kernelspec": {
   "display_name": "Python (tensorflow)",
   "language": "python",
   "name": "tensorflow"
  },
  "language_info": {
   "codemirror_mode": {
    "name": "ipython",
    "version": 3
   },
   "file_extension": ".py",
   "mimetype": "text/x-python",
   "name": "python",
   "nbconvert_exporter": "python",
   "pygments_lexer": "ipython3",
   "version": "3.6.6"
  }
 },
 "nbformat": 4,
 "nbformat_minor": 2
}
