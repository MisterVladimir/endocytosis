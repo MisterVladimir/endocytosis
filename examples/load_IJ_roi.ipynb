{
 "cells": [
  {
   "cell_type": "code",
   "execution_count": 1,
   "metadata": {},
   "outputs": [],
   "source": [
    "import numpy as np\n",
    "import glob\n",
    "import os\n",
    "\n",
    "import endocytosis.contrib.gohlke.tifffile as tifffile\n",
    "import endocytosis.io.path as path\n",
    "import endocytosis.io.image.roi.file_reading as file_reading"
   ]
  },
  {
   "cell_type": "code",
   "execution_count": 2,
   "metadata": {},
   "outputs": [],
   "source": [
    "folder = r\"D:\\endocytosis_data_subset\\2016-12-14 iso\\2016-12-14 Sp57 proto 003\"\n",
    "filepaths = glob.glob(folder + os.path.sep + '*.tif')"
   ]
  },
  {
   "cell_type": "code",
   "execution_count": 3,
   "metadata": {},
   "outputs": [
    {
     "data": {
      "text/plain": [
       "['D:\\\\endocytosis_data_subset\\\\2016-12-14 iso\\\\2016-12-14 Sp57 proto 003\\\\2016-12-14 Sp57 proto 003.tif']"
      ]
     },
     "execution_count": 3,
     "metadata": {},
     "output_type": "execute_result"
    }
   ],
   "source": [
    "filepaths"
   ]
  },
  {
   "cell_type": "code",
   "execution_count": 4,
   "metadata": {},
   "outputs": [],
   "source": [
    "im = tifffile.TiffFile(filepaths[0])"
   ]
  },
  {
   "cell_type": "code",
   "execution_count": 5,
   "metadata": {},
   "outputs": [],
   "source": [
    "pathfinder = path.PathFinder(regexp='RoiSetAuto.*', extension='zip')"
   ]
  },
  {
   "cell_type": "code",
   "execution_count": 6,
   "metadata": {},
   "outputs": [],
   "source": [
    "zip_filenames = [p[0] for p in pathfinder.load(folder)]"
   ]
  },
  {
   "cell_type": "code",
   "execution_count": 7,
   "metadata": {},
   "outputs": [
    {
     "data": {
      "text/plain": [
       "'D:\\\\endocytosis_data_subset\\\\2016-12-14 iso\\\\2016-12-14 Sp57 proto 003\\\\RoiSetAuto-100.zip'"
      ]
     },
     "execution_count": 7,
     "metadata": {},
     "output_type": "execute_result"
    }
   ],
   "source": [
    "folder + os.path.sep + zip_filenames[0]"
   ]
  },
  {
   "cell_type": "code",
   "execution_count": 8,
   "metadata": {},
   "outputs": [],
   "source": [
    "roi_reader = file_reading.IJZipReader(regexp=r'.*[0-9](#x)?\\.roi$', sep=None)"
   ]
  },
  {
   "cell_type": "code",
   "execution_count": 9,
   "metadata": {},
   "outputs": [],
   "source": [
    "roi_reader.read(folder + os.path.sep + zip_filenames[0])"
   ]
  },
  {
   "cell_type": "code",
   "execution_count": 10,
   "metadata": {},
   "outputs": [
    {
     "name": "stdout",
     "output_type": "stream",
     "text": [
      "0030-0030-0964#x {'px': array([729.5, 964.5])}\n",
      "0031-0031-0965 {'px': array([728.5, 965.5])}\n",
      "0032-0032-0965 {'px': array([730.5, 965.5])}\n",
      "0033-0033-0967 {'px': array([729.5, 967.5])}\n",
      "0034-0034-0967 {'px': array([728.5, 967.5])}\n",
      "0035-0035-0968 {'px': array([726.5, 968.5])}\n",
      "0036-0036-0970#x {'px': array([726.5, 970.5])}\n",
      "0037-0037-0970 {'px': array([726.5, 970.5])}\n",
      "0038-0038-0969 {'px': array([727.5, 969.5])}\n"
     ]
    }
   ],
   "source": [
    "for k, v in roi_reader.items():\n",
    "    print(k, v.centroid)"
   ]
  },
  {
   "cell_type": "code",
   "execution_count": null,
   "metadata": {},
   "outputs": [],
   "source": []
  }
 ],
 "metadata": {
  "kernelspec": {
   "display_name": "Python (tensorflow)",
   "language": "python",
   "name": "tensorflow"
  },
  "language_info": {
   "codemirror_mode": {
    "name": "ipython",
    "version": 3
   },
   "file_extension": ".py",
   "mimetype": "text/x-python",
   "name": "python",
   "nbconvert_exporter": "python",
   "pygments_lexer": "ipython3",
   "version": "3.6.6"
  }
 },
 "nbformat": 4,
 "nbformat_minor": 2
}
