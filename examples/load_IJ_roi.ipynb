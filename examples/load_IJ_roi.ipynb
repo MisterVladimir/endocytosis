{
 "cells": [
  {
   "cell_type": "code",
   "execution_count": 1,
   "metadata": {},
   "outputs": [],
   "source": [
    "import numpy as np\n",
    "import glob\n",
    "import os\n",
    "\n",
    "import endocytosis.contrib.gohlke.tifffile as tifffile\n",
    "import endocytosis.io.path as path\n",
    "import endocytosis.io.roi.roi_read as roi_read"
   ]
  },
  {
   "cell_type": "code",
   "execution_count": 2,
   "metadata": {},
   "outputs": [],
   "source": [
    "folder = r\"D:\\endocytosis_data_subset\\2016-12-14 iso\\2016-12-14 Sp57 proto 003\""
   ]
  },
  {
   "cell_type": "markdown",
   "metadata": {},
   "source": [
    "filepaths = glob.glob(folder + os.path.sep + '*.tif')\n",
    "filepaths"
   ]
  },
  {
   "cell_type": "markdown",
   "metadata": {},
   "source": [
    "im = tifffile.TiffFile(filepaths[0])"
   ]
  },
  {
   "cell_type": "code",
   "execution_count": 3,
   "metadata": {},
   "outputs": [],
   "source": [
    "pathfinder = path.PathFinder(regexp='RoiSetAuto.*', extension='zip')"
   ]
  },
  {
   "cell_type": "code",
   "execution_count": 4,
   "metadata": {},
   "outputs": [],
   "source": [
    "zip_filenames = [p[0] for p in pathfinder.load(folder)]"
   ]
  },
  {
   "cell_type": "code",
   "execution_count": 5,
   "metadata": {},
   "outputs": [
    {
     "data": {
      "text/plain": [
       "'D:\\\\endocytosis_data_subset\\\\2016-12-14 iso\\\\2016-12-14 Sp57 proto 003\\\\RoiSetAuto-100.zip'"
      ]
     },
     "execution_count": 5,
     "metadata": {},
     "output_type": "execute_result"
    }
   ],
   "source": [
    "folder + os.path.sep + zip_filenames[0]"
   ]
  },
  {
   "cell_type": "code",
   "execution_count": 6,
   "metadata": {},
   "outputs": [
    {
     "name": "stdout",
     "output_type": "stream",
     "text": [
      "RoiSetAuto-100 {'0030-0030-0964#x': <endocytosis.io.roi.roi_objects.EllipseROI object at 0x000001FF01DD0A58>, '0031-0031-0965': <endocytosis.io.roi.roi_objects.EllipseROI object at 0x000001FF01DD0B70>, '0032-0032-0965': <endocytosis.io.roi.roi_objects.EllipseROI object at 0x000001FF01DD0C88>, '0033-0033-0967': <endocytosis.io.roi.roi_objects.EllipseROI object at 0x000001FF01DD0DA0>, '0034-0034-0967': <endocytosis.io.roi.roi_objects.EllipseROI object at 0x000001FF01DD0EB8>, '0035-0035-0968': <endocytosis.io.roi.roi_objects.EllipseROI object at 0x000001FF01DD0FD0>, '0036-0036-0970#x': <endocytosis.io.roi.roi_objects.EllipseROI object at 0x000001FF01DE4128>, '0037-0037-0970': <endocytosis.io.roi.roi_objects.EllipseROI object at 0x000001FF01DE4240>, '0038-0038-0969': <endocytosis.io.roi.roi_objects.EllipseROI object at 0x000001FF01DE4358>}\n"
     ]
    }
   ],
   "source": [
    "with roi_read.IJZipReader(regexp=r'.*[0-9](#x)?\\.roi$', sep=None) as roi_reader:\n",
    "    roi_reader.read(folder + os.path.sep + zip_filenames[0])\n",
    "    for k, v in roi_reader.items():\n",
    "        print(k, v)"
   ]
  },
  {
   "cell_type": "code",
   "execution_count": 7,
   "metadata": {},
   "outputs": [],
   "source": [
    "el = roi_reader.data['RoiSetAuto-100'].iloc(0)"
   ]
  },
  {
   "cell_type": "code",
   "execution_count": 8,
   "metadata": {},
   "outputs": [
    {
     "data": {
      "text/plain": [
       "b'Iout\\x00\\xe3\\x01\\x00\\x03\\xc2\\x02\\xd7\\x03\\xc7\\x02\\xdc\\x00\\x00\\x00\\x00\\x00\\x00\\x00\\x00\\x00\\x00\\x00\\x00\\x00\\x00\\x00\\x00\\x00\\x00\\x00\\x00\\x00\\x00\\x00\\x00\\x00\\x00\\x00\\x00\\x00\\x00\\x00\\x00\\x00\\x00\\x00\\x00\\x00\\x00\\x00\\x00\\x00\\x00\\x00\\x00\\x00\\x00\\x00D\\x00\\x00\\x00\\x00\\x00\\x00\\x00\\x00\\x00\\x00\\x00\\x00\\x00\\x00\\x00\\x00\\x00\\x00\\x00\\x1e\\x00\\x00\\x00x\\x00\\x00\\x00\\x08\\x00\\x00\\x00\\x00\\x00\\x00\\x00\\x00\\x00\\x00\\x00\\x00\\x00\\x00\\x00\\x00\\x00\\x00\\x00\\x88\\x00\\x00\\x01n\\x00\\x00\\x00\\x00\\x00r\\x00o\\x00i\\x00_\\x00n\\x00a\\x00m\\x00e\\x00T\\x00M\\x00_\\x00Q\\x00u\\x00a\\x00l\\x00i\\x00t\\x00y\\x00:\\x00 \\x005\\x002\\x009\\x00.\\x005\\x004\\x009\\x006\\x002\\x001\\x005\\x008\\x002\\x000\\x003\\x001\\x002\\x00\\n\\x00T\\x00M\\x00_\\x00R\\x00a\\x00d\\x00i\\x00u\\x00s\\x00:\\x00 \\x000\\x00.\\x003\\x00\\n\\x00T\\x00M\\x00_\\x00X\\x00:\\x00 \\x009\\x004\\x00.\\x008\\x003\\x004\\x001\\x000\\x009\\x005\\x004\\x000\\x005\\x002\\x002\\x000\\x002\\x00\\n\\x00T\\x00M\\x00_\\x00Y\\x00:\\x00 \\x001\\x002\\x005\\x00.\\x003\\x009\\x004\\x004\\x003\\x008\\x000\\x008\\x004\\x009\\x000\\x004\\x005\\x001\\x00\\n\\x00S\\x00o\\x00f\\x00t\\x00w\\x00a\\x00r\\x00e\\x00:\\x00 \\x00h\\x00t\\x00t\\x00p\\x00s\\x00:\\x00/\\x00/\\x00g\\x00i\\x00t\\x00h\\x00u\\x00b\\x00.\\x00c\\x00o\\x00m\\x00/\\x00M\\x00i\\x00s\\x00t\\x00e\\x00r\\x00V\\x00l\\x00a\\x00d\\x00i\\x00m\\x00i\\x00r\\x00/\\x00f\\x00i\\x00j\\x00i\\x00_\\x00u\\x00t\\x00i\\x00l\\x00s\\x00\\n\\x00Y\\x00Y\\x00Y\\x00Y\\x00M\\x00M\\x00D\\x00D\\x00:\\x00 \\x002\\x000\\x001\\x008\\x00-\\x008\\x00-\\x002\\x003\\x00\\n\\x00I\\x00m\\x00a\\x00g\\x00e\\x00 \\x00N\\x00a\\x00m\\x00e\\x00:\\x00 \\x00i\\x00m'"
      ]
     },
     "execution_count": 8,
     "metadata": {},
     "output_type": "execute_result"
    }
   ],
   "source": [
    "from endocytosis.io.roi.roi_objects import RectROI\n",
    "RectROI.to_IJ(roi=el, image_name='im', name='roi_name')"
   ]
  },
  {
   "cell_type": "code",
   "execution_count": null,
   "metadata": {},
   "outputs": [],
   "source": []
  },
  {
   "cell_type": "code",
   "execution_count": 9,
   "metadata": {},
   "outputs": [],
   "source": [
    "import zipfile\n",
    "data = RectROI.to_IJ(roi=el, image_name='im', name='roi_name12345')\n",
    "with open('test.roi', 'wb') as f:\n",
    "    f.write(data)"
   ]
  },
  {
   "cell_type": "code",
   "execution_count": 10,
   "metadata": {},
   "outputs": [
    {
     "data": {
      "text/plain": [
       "0"
      ]
     },
     "execution_count": 10,
     "metadata": {},
     "output_type": "execute_result"
    }
   ],
   "source": [
    "el.subpixel    "
   ]
  },
  {
   "cell_type": "code",
   "execution_count": 11,
   "metadata": {},
   "outputs": [
    {
     "data": {
      "text/plain": [
       "0"
      ]
     },
     "execution_count": 11,
     "metadata": {},
     "output_type": "execute_result"
    }
   ],
   "source": [
    "el.select_params['options']"
   ]
  },
  {
   "cell_type": "code",
   "execution_count": null,
   "metadata": {},
   "outputs": [],
   "source": []
  }
 ],
 "metadata": {
  "kernelspec": {
   "display_name": "Python (tensorflow)",
   "language": "python",
   "name": "tensorflow"
  },
  "language_info": {
   "codemirror_mode": {
    "name": "ipython",
    "version": 3
   },
   "file_extension": ".py",
   "mimetype": "text/x-python",
   "name": "python",
   "nbconvert_exporter": "python",
   "pygments_lexer": "ipython3",
   "version": "3.6.6"
  }
 },
 "nbformat": 4,
 "nbformat_minor": 2
}
