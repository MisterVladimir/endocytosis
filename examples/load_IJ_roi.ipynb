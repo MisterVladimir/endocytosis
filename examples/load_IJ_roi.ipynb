{
 "cells": [
  {
   "cell_type": "code",
   "execution_count": 1,
   "metadata": {},
   "outputs": [],
   "source": [
    "import numpy as np\n",
    "import glob\n",
    "import os\n",
    "\n",
    "import endocytosis.contrib.gohlke.tifffile as tifffile\n",
    "import endocytosis.io.path as path\n",
    "import endocytosis.io.image.roi.roi_read as roi_read"
   ]
  },
  {
   "cell_type": "code",
   "execution_count": 2,
   "metadata": {},
   "outputs": [],
   "source": [
    "folder = r\"D:\\endocytosis_data_subset\\2016-12-14 iso\\2016-12-14 Sp57 proto 003\"\n",
    "filepaths = glob.glob(folder + os.path.sep + '*.tif')"
   ]
  },
  {
   "cell_type": "code",
   "execution_count": 3,
   "metadata": {},
   "outputs": [
    {
     "data": {
      "text/plain": [
       "['D:\\\\endocytosis_data_subset\\\\2016-12-14 iso\\\\2016-12-14 Sp57 proto 003\\\\2016-12-14 Sp57 proto 003.tif']"
      ]
     },
     "execution_count": 3,
     "metadata": {},
     "output_type": "execute_result"
    }
   ],
   "source": [
    "filepaths"
   ]
  },
  {
   "cell_type": "code",
   "execution_count": 4,
   "metadata": {},
   "outputs": [],
   "source": [
    "im = tifffile.TiffFile(filepaths[0])"
   ]
  },
  {
   "cell_type": "code",
   "execution_count": 5,
   "metadata": {},
   "outputs": [],
   "source": [
    "pathfinder = path.PathFinder(regexp='RoiSetAuto.*', extension='zip')"
   ]
  },
  {
   "cell_type": "code",
   "execution_count": 6,
   "metadata": {},
   "outputs": [],
   "source": [
    "zip_filenames = [p[0] for p in pathfinder.load(folder)]"
   ]
  },
  {
   "cell_type": "code",
   "execution_count": 7,
   "metadata": {},
   "outputs": [
    {
     "data": {
      "text/plain": [
       "'D:\\\\endocytosis_data_subset\\\\2016-12-14 iso\\\\2016-12-14 Sp57 proto 003\\\\RoiSetAuto-100.zip'"
      ]
     },
     "execution_count": 7,
     "metadata": {},
     "output_type": "execute_result"
    }
   ],
   "source": [
    "folder + os.path.sep + zip_filenames[0]"
   ]
  },
  {
   "cell_type": "code",
   "execution_count": 8,
   "metadata": {},
   "outputs": [
    {
     "name": "stdout",
     "output_type": "stream",
     "text": [
      "0030-0030-0964#x {'px': array([729.5, 964.5])}\n",
      "0031-0031-0965 {'px': array([728.5, 965.5])}\n",
      "0032-0032-0965 {'px': array([730.5, 965.5])}\n",
      "0033-0033-0967 {'px': array([729.5, 967.5])}\n",
      "0034-0034-0967 {'px': array([728.5, 967.5])}\n",
      "0035-0035-0968 {'px': array([726.5, 968.5])}\n",
      "0036-0036-0970#x {'px': array([726.5, 970.5])}\n",
      "0037-0037-0970 {'px': array([726.5, 970.5])}\n",
      "0038-0038-0969 {'px': array([727.5, 969.5])}\n"
     ]
    }
   ],
   "source": [
    "with roi_read.IJZipReader(regexp=r'.*[0-9](#x)?\\.roi$', sep=None) as roi_reader:\n",
    "    roi_reader.read(folder + os.path.sep + zip_filenames[0])\n",
    "    for k, v in roi_reader.items():\n",
    "        print(k, v.centroid)"
   ]
  },
  {
   "cell_type": "code",
   "execution_count": 9,
   "metadata": {},
   "outputs": [],
   "source": [
    "bytestreams = roi_reader.bytestreams"
   ]
  },
  {
   "cell_type": "code",
   "execution_count": 25,
   "metadata": {},
   "outputs": [],
   "source": [
    "from endocytosis.io.image.roi import (HEADER_SIZE, HEADER2_SIZE,\n",
    "                                      HEADER_DTYPE, HEADER2_DTYPE,\n",
    "                                      OPTIONS, SUBTYPE, ROI_TYPE)"
   ]
  },
  {
   "cell_type": "code",
   "execution_count": 11,
   "metadata": {},
   "outputs": [],
   "source": [
    "length = len(bytestreams)\n",
    "hdr = np.recarray(length, HEADER_DTYPE, buf=b''.join([\n",
    "                  b[:HEADER_SIZE] for b in bytestreams]))"
   ]
  },
  {
   "cell_type": "code",
   "execution_count": 12,
   "metadata": {},
   "outputs": [
    {
     "data": {
      "text/plain": [
       "array([64, 64, 64, 64, 64, 64, 64, 64, 64])"
      ]
     },
     "execution_count": 12,
     "metadata": {},
     "output_type": "execute_result"
    }
   ],
   "source": [
    "hdr['hdr2_offset']"
   ]
  },
  {
   "cell_type": "code",
   "execution_count": 13,
   "metadata": {},
   "outputs": [],
   "source": [
    "hdr2 = np.recarray(length, HEADER2_DTYPE, buf=b''.join([\n",
    "                   b[off:off+HEADER2_SIZE] for off, b in zip(\n",
    "                       hdr['hdr2_offset'], bytestreams)]))"
   ]
  },
  {
   "cell_type": "code",
   "execution_count": 14,
   "metadata": {},
   "outputs": [
    {
     "data": {
      "text/plain": [
       "b'\\x00\\x00\\x00\\x80\\x00\\x00\\x00\\x80\\x00\\x00\\x00\\x80\\x00\\x00\\x00\\x80\\x00\\x00\\x00\\x80\\x00\\x00\\x00\\x80\\x00\\x00\\x00\\x80\\x00\\x00\\x00\\x80\\x00\\x00\\x00\\x80'"
      ]
     },
     "execution_count": 14,
     "metadata": {},
     "output_type": "execute_result"
    }
   ],
   "source": [
    "hdr2['name_offset'].tobytes()"
   ]
  },
  {
   "cell_type": "code",
   "execution_count": 15,
   "metadata": {},
   "outputs": [],
   "source": [
    "from struct import unpack\n",
    "offsets, lengths = hdr2['name_offset'], hdr2['name_length']\n",
    "names = [\"\".join(map(chr, unpack('>'+'h'*le, bs[off:off+le*2]))) for\n",
    "                 bs, off, le in zip(bytestreams, offsets, lengths)]"
   ]
  },
  {
   "cell_type": "code",
   "execution_count": 16,
   "metadata": {},
   "outputs": [
    {
     "data": {
      "text/plain": [
       "['0030-0030-0964#x',\n",
       " '0031-0031-0965',\n",
       " '0032-0032-0965',\n",
       " '0033-0033-0967',\n",
       " '0034-0034-0967',\n",
       " '0035-0035-0968',\n",
       " '0036-0036-0970#x',\n",
       " '0037-0037-0970',\n",
       " '0038-0038-0969']"
      ]
     },
     "execution_count": 16,
     "metadata": {},
     "output_type": "execute_result"
    }
   ],
   "source": [
    "names"
   ]
  },
  {
   "cell_type": "code",
   "execution_count": 17,
   "metadata": {},
   "outputs": [
    {
     "data": {
      "text/plain": [
       "rec.array([(b'Iout', 227, 2, 962, 727, 967, 732, 0, 0., 0., 0., 0., 0, 0, (0, 0, 0, 0), (0, 0, 0, 0), 0, 0, 0, 0, 0, 0, 64),\n",
       "           (b'Iout', 227, 2, 963, 726, 968, 731, 0, 0., 0., 0., 0., 0, 0, (0, 0, 0, 0), (0, 0, 0, 0), 0, 0, 0, 0, 0, 0, 64),\n",
       "           (b'Iout', 227, 2, 963, 728, 968, 733, 0, 0., 0., 0., 0., 0, 0, (0, 0, 0, 0), (0, 0, 0, 0), 0, 0, 0, 0, 0, 0, 64),\n",
       "           (b'Iout', 227, 2, 965, 727, 970, 732, 0, 0., 0., 0., 0., 0, 0, (0, 0, 0, 0), (0, 0, 0, 0), 0, 0, 0, 0, 0, 0, 64),\n",
       "           (b'Iout', 227, 2, 965, 726, 970, 731, 0, 0., 0., 0., 0., 0, 0, (0, 0, 0, 0), (0, 0, 0, 0), 0, 0, 0, 0, 0, 0, 64),\n",
       "           (b'Iout', 227, 2, 966, 724, 971, 729, 0, 0., 0., 0., 0., 0, 0, (0, 0, 0, 0), (0, 0, 0, 0), 0, 0, 0, 0, 0, 0, 64),\n",
       "           (b'Iout', 227, 2, 968, 724, 973, 729, 0, 0., 0., 0., 0., 0, 0, (0, 0, 0, 0), (0, 0, 0, 0), 0, 0, 0, 0, 0, 0, 64),\n",
       "           (b'Iout', 227, 2, 968, 724, 973, 729, 0, 0., 0., 0., 0., 0, 0, (0, 0, 0, 0), (0, 0, 0, 0), 0, 0, 0, 0, 0, 0, 64),\n",
       "           (b'Iout', 227, 2, 967, 725, 972, 730, 0, 0., 0., 0., 0., 0, 0, (0, 0, 0, 0), (0, 0, 0, 0), 0, 0, 0, 0, 0, 0, 64)],\n",
       "          dtype={'names':['magic','version','type','top','left','bottom','right','n_coordinates','x1','y1','x2','y2','stroke_width','shape_roi_size','stroke_color','fill_color','subtype','options','style_or_ratio','arrow_head_size','rounded_rect_arc_size','position','hdr2_offset'], 'formats':['S4','>i2','<i2','>i2','>i2','>i2','>i2','>i2','>f4','>f4','>f4','>f4','>i2','>i2',[('alpha', 'i1'), ('red', 'i1'), ('green', 'i1'), ('blue', 'i1')],[('alpha', 'i1'), ('red', 'i1'), ('green', 'i1'), ('blue', 'i1')],'>i2','>i2','i1','i1','>i2','>i4','>i4'], 'offsets':[0,4,6,8,10,12,14,16,18,22,26,30,34,36,40,44,48,50,52,53,54,56,60], 'itemsize':64})"
      ]
     },
     "execution_count": 17,
     "metadata": {},
     "output_type": "execute_result"
    }
   ],
   "source": [
    "hdr"
   ]
  },
  {
   "cell_type": "code",
   "execution_count": 18,
   "metadata": {},
   "outputs": [],
   "source": [
    "from struct import pack\n",
    "ord_names = [list(map(ord, n)) for n in names]"
   ]
  },
  {
   "cell_type": "code",
   "execution_count": 48,
   "metadata": {},
   "outputs": [],
   "source": [
    "bnames = [pack('>' + 'h'*len(n), *n) for n in ord_names]"
   ]
  },
  {
   "cell_type": "code",
   "execution_count": 49,
   "metadata": {},
   "outputs": [
    {
     "data": {
      "text/plain": [
       "True"
      ]
     },
     "execution_count": 49,
     "metadata": {},
     "output_type": "execute_result"
    }
   ],
   "source": [
    "bnames[0] in bytestreams[0]"
   ]
  },
  {
   "cell_type": "code",
   "execution_count": 52,
   "metadata": {},
   "outputs": [
    {
     "data": {
      "text/plain": [
       "b'\\x000\\x000\\x003\\x000\\x00-\\x000\\x000\\x003\\x000\\x00-\\x000\\x009\\x006\\x004\\x00#\\x00x\\x00T\\x00M\\x00_\\x00Q\\x00u\\x00a\\x00l\\x00i\\x00t\\x00y\\x00:\\x00 \\x005\\x002\\x009\\x00.\\x005\\x004\\x009\\x006\\x002\\x001\\x005\\x008\\x002\\x000\\x003\\x001\\x002\\x00\\n\\x00T\\x00M\\x00_\\x00R\\x00a\\x00d\\x00i\\x00u\\x00s\\x00:\\x00 \\x000\\x00.\\x003\\x00\\n\\x00T\\x00M\\x00_\\x00X\\x00:\\x00 \\x009\\x004\\x00.\\x008\\x003\\x004\\x001\\x000\\x009\\x005\\x004\\x000\\x005\\x002\\x002\\x000\\x002\\x00\\n\\x00T\\x00M\\x00_\\x00Y\\x00:\\x00 \\x001\\x002\\x005\\x00.\\x003\\x009\\x004\\x004\\x003\\x008\\x000\\x008\\x004\\x009\\x000\\x004\\x005\\x001\\x00\\n'"
      ]
     },
     "execution_count": 52,
     "metadata": {},
     "output_type": "execute_result"
    }
   ],
   "source": [
    "bytestreams[0][128:]"
   ]
  },
  {
   "cell_type": "code",
   "execution_count": 51,
   "metadata": {},
   "outputs": [
    {
     "data": {
      "text/plain": [
       "b'\\x000\\x000\\x003\\x000\\x00-\\x000\\x000\\x003\\x000\\x00-\\x000\\x009\\x006\\x004\\x00#\\x00x'"
      ]
     },
     "execution_count": 51,
     "metadata": {},
     "output_type": "execute_result"
    }
   ],
   "source": [
    "bnames[0]"
   ]
  },
  {
   "cell_type": "code",
   "execution_count": 53,
   "metadata": {},
   "outputs": [
    {
     "data": {
      "text/plain": [
       "32"
      ]
     },
     "execution_count": 53,
     "metadata": {},
     "output_type": "execute_result"
    }
   ],
   "source": [
    "len(bnames[0])"
   ]
  },
  {
   "cell_type": "code",
   "execution_count": 54,
   "metadata": {},
   "outputs": [
    {
     "data": {
      "text/plain": [
       "b'\\x00T\\x00M\\x00_\\x00Q\\x00u\\x00a\\x00l\\x00i\\x00t\\x00y\\x00:\\x00 \\x005\\x002\\x009\\x00.\\x005\\x004\\x009\\x006\\x002\\x001\\x005\\x008\\x002\\x000\\x003\\x001\\x002\\x00\\n\\x00T\\x00M\\x00_\\x00R\\x00a\\x00d\\x00i\\x00u\\x00s\\x00:\\x00 \\x000\\x00.\\x003\\x00\\n\\x00T\\x00M\\x00_\\x00X\\x00:\\x00 \\x009\\x004\\x00.\\x008\\x003\\x004\\x001\\x000\\x009\\x005\\x004\\x000\\x005\\x002\\x002\\x000\\x002\\x00\\n\\x00T\\x00M\\x00_\\x00Y\\x00:\\x00 \\x001\\x002\\x005\\x00.\\x003\\x009\\x004\\x004\\x003\\x008\\x000\\x008\\x004\\x009\\x000\\x004\\x005\\x001\\x00\\n'"
      ]
     },
     "execution_count": 54,
     "metadata": {},
     "output_type": "execute_result"
    }
   ],
   "source": [
    "bytestreams[0][128+32:]"
   ]
  },
  {
   "cell_type": "code",
   "execution_count": 62,
   "metadata": {},
   "outputs": [],
   "source": [
    "props = [''.join(list(map(chr, unpack('>' + 'h'*(len(bs[160:])//2), bs[160:]))))\n",
    "                for bs in bytestreams]"
   ]
  },
  {
   "cell_type": "code",
   "execution_count": 198,
   "metadata": {},
   "outputs": [
    {
     "data": {
      "text/plain": [
       "['TM_Quality: 529.5496215820312\\nTM_Radius: 0.3\\nTM_X: 94.83410954052202\\nTM_Y: 125.39443808490451\\n',\n",
       " '_Quality: 1003.0696411132812\\nTM_Radius: 0.3\\nTM_X: 94.68939434686278\\nTM_Y: 125.42781715918267\\n',\n",
       " '_Quality: 1087.1341552734375\\nTM_Radius: 0.3\\nTM_X: 94.87792682283428\\nTM_Y: 125.46479753706329\\n',\n",
       " '_Quality: 990.0999755859375\\nTM_Radius: 0.3\\nTM_X: 94.75473263782494\\nTM_Y: 125.69158879973178\\n',\n",
       " '_Quality: 809.786376953125\\nTM_Radius: 0.3\\nTM_X: 94.729591327467\\nTM_Y: 125.80808796336997\\n',\n",
       " '_Quality: 895.5128784179688\\nTM_Radius: 0.3\\nTM_X: 94.44173924435866\\nTM_Y: 125.89441114824943\\n',\n",
       " 'TM_Quality: 766.9214477539062\\nTM_Radius: 0.3\\nTM_X: 94.45562319002912\\nTM_Y: 126.10644703159014\\n',\n",
       " '_Quality: 731.497802734375\\nTM_Radius: 0.3\\nTM_X: 94.39651444595575\\nTM_Y: 126.10213628564911\\n',\n",
       " '_Quality: 583.3685913085938\\nTM_Radius: 0.3\\nTM_X: 94.60191724031117\\nTM_Y: 126.00010299580089\\n']"
      ]
     },
     "execution_count": 198,
     "metadata": {},
     "output_type": "execute_result"
    }
   ],
   "source": [
    "props"
   ]
  },
  {
   "cell_type": "code",
   "execution_count": 65,
   "metadata": {},
   "outputs": [
    {
     "data": {
      "text/plain": [
       "(b'Iout', 227, 2, 962, 727, 967, 732, 0, 0., 0., 0., 0., 0, 0, 0, 0, 0, 0, 0, 0, 0, 0, 64)"
      ]
     },
     "execution_count": 65,
     "metadata": {},
     "output_type": "execute_result"
    }
   ],
   "source": [
    "hdr[0]"
   ]
  },
  {
   "cell_type": "code",
   "execution_count": 80,
   "metadata": {},
   "outputs": [
    {
     "data": {
      "text/plain": [
       "rec.array([(0, 0, 30, 128, 16, 0, 0, 0, 0, 0),\n",
       "           (0, 0, 31, 128, 14, 0, 0, 0, 0, 0),\n",
       "           (0, 0, 32, 128, 14, 0, 0, 0, 0, 0),\n",
       "           (0, 0, 33, 128, 14, 0, 0, 0, 0, 0),\n",
       "           (0, 0, 34, 128, 14, 0, 0, 0, 0, 0),\n",
       "           (0, 0, 35, 128, 14, 0, 0, 0, 0, 0),\n",
       "           (0, 0, 36, 128, 16, 0, 0, 0, 0, 0),\n",
       "           (0, 0, 37, 128, 14, 0, 0, 0, 0, 0),\n",
       "           (0, 0, 38, 128, 14, 0, 0, 0, 0, 0)],\n",
       "          dtype={'names':['c','z','t','name_offset','name_length','label_color','font_size','opacity','image_size','float_stroke_width'], 'formats':['>i4','>i4','>i4','>i4','>i4','>i4','>i2','i1','>i4','>i4'], 'offsets':[4,8,12,16,20,24,28,31,32,36], 'itemsize':40})"
      ]
     },
     "execution_count": 80,
     "metadata": {},
     "output_type": "execute_result"
    }
   ],
   "source": [
    "hdr2"
   ]
  },
  {
   "cell_type": "code",
   "execution_count": 67,
   "metadata": {},
   "outputs": [
    {
     "data": {
      "text/plain": [
       "768"
      ]
     },
     "execution_count": 67,
     "metadata": {},
     "output_type": "execute_result"
    }
   ],
   "source": [
    "512 | 256"
   ]
  },
  {
   "cell_type": "code",
   "execution_count": 81,
   "metadata": {},
   "outputs": [
    {
     "data": {
      "text/plain": [
       "(b'Iout', 227, 2, 962, 727, 967, 732, 0, 0., 0., 0., 0., 0, 0, 0, 0, 0, 0, 0, 0, 0, 0, 64)"
      ]
     },
     "execution_count": 81,
     "metadata": {},
     "output_type": "execute_result"
    }
   ],
   "source": [
    "hdr[0]"
   ]
  },
  {
   "cell_type": "code",
   "execution_count": 102,
   "metadata": {},
   "outputs": [
    {
     "data": {
      "text/plain": [
       "128"
      ]
     },
     "execution_count": 102,
     "metadata": {},
     "output_type": "execute_result"
    }
   ],
   "source": [
    "64+48+16"
   ]
  },
  {
   "cell_type": "code",
   "execution_count": 85,
   "metadata": {},
   "outputs": [
    {
     "data": {
      "text/plain": [
       "(160,\n",
       " 94,\n",
       " 0,\n",
       " 0,\n",
       " 0,\n",
       " 0,\n",
       " 3145776,\n",
       " 3342384,\n",
       " 2949168,\n",
       " 3145779,\n",
       " 3145773,\n",
       " 3145785,\n",
       " 3538996,\n",
       " 2293880,\n",
       " 5505101,\n",
       " 6226001,\n",
       " 7667809,\n",
       " 7077993,\n",
       " 7602297,\n",
       " 3801120,\n",
       " 3473458,\n",
       " 3735598,\n",
       " 3473460,\n",
       " 3735606,\n",
       " 3276849,\n",
       " 3473464,\n",
       " 3276848,\n",
       " 3342385,\n",
       " 3276810,\n",
       " 5505101,\n",
       " 6226002,\n",
       " 6357092,\n",
       " 6881397,\n",
       " 7536698,\n",
       " 2097200,\n",
       " 3014707,\n",
       " 655444,\n",
       " 5046367,\n",
       " 5767226,\n",
       " 2097209,\n",
       " 3407918,\n",
       " 3670067,\n",
       " 3407921,\n",
       " 3145785,\n",
       " 3473460,\n",
       " 3145781,\n",
       " 3276850,\n",
       " 3145778,\n",
       " 655444,\n",
       " 5046367,\n",
       " 5832762,\n",
       " 2097201,\n",
       " 3276853,\n",
       " 3014707,\n",
       " 3735604,\n",
       " 3407923,\n",
       " 3670064,\n",
       " 3670068,\n",
       " 3735600,\n",
       " 3407925,\n",
       " 3211274)"
      ]
     },
     "execution_count": 85,
     "metadata": {},
     "output_type": "execute_result"
    }
   ],
   "source": [
    "unpack('>' + 'i'*(len(bytestreams[0][104:])//4), bytestreams[0][104:])"
   ]
  },
  {
   "cell_type": "code",
   "execution_count": 19,
   "metadata": {},
   "outputs": [
    {
     "ename": "TypeError",
     "evalue": "object() takes no parameters",
     "output_type": "error",
     "traceback": [
      "\u001b[1;31m---------------------------------------------------------------------------\u001b[0m",
      "\u001b[1;31mKeyError\u001b[0m                                  Traceback (most recent call last)",
      "\u001b[1;32mc:\\users\\v\\anaconda3\\envs\\tensorflow\\projects\\endocytosis\\endocytosis\\io\\image\\roi\\roi_objects.py\u001b[0m in \u001b[0;36mROI\u001b[1;34m(common, coordinates, typ)\u001b[0m\n\u001b[0;32m    208\u001b[0m     \u001b[1;32mtry\u001b[0m\u001b[1;33m:\u001b[0m\u001b[1;33m\u001b[0m\u001b[0m\n\u001b[1;32m--> 209\u001b[1;33m         \u001b[1;32mreturn\u001b[0m \u001b[0mnumber_to_roi_class\u001b[0m\u001b[1;33m[\u001b[0m\u001b[0mtyp\u001b[0m\u001b[1;33m]\u001b[0m\u001b[1;33m(\u001b[0m\u001b[0mcommon\u001b[0m\u001b[1;33m,\u001b[0m \u001b[0mcoordinates\u001b[0m\u001b[1;33m)\u001b[0m\u001b[1;33m\u001b[0m\u001b[0m\n\u001b[0m\u001b[0;32m    210\u001b[0m     \u001b[1;32mexcept\u001b[0m \u001b[0mKeyError\u001b[0m\u001b[1;33m:\u001b[0m\u001b[1;33m\u001b[0m\u001b[0m\n",
      "\u001b[1;31mKeyError\u001b[0m: 10",
      "\nDuring handling of the above exception, another exception occurred:\n",
      "\u001b[1;31mTypeError\u001b[0m                                 Traceback (most recent call last)",
      "\u001b[1;32m<ipython-input-19-0f5bffa084c6>\u001b[0m in \u001b[0;36m<module>\u001b[1;34m()\u001b[0m\n\u001b[0;32m      1\u001b[0m \u001b[1;32mwith\u001b[0m \u001b[0mroi_read\u001b[0m\u001b[1;33m.\u001b[0m\u001b[0mIJZipReader\u001b[0m\u001b[1;33m(\u001b[0m\u001b[0mregexp\u001b[0m\u001b[1;33m=\u001b[0m\u001b[1;34mr'.*[0-9](#x)?\\.roi$'\u001b[0m\u001b[1;33m,\u001b[0m \u001b[0msep\u001b[0m\u001b[1;33m=\u001b[0m\u001b[1;32mNone\u001b[0m\u001b[1;33m)\u001b[0m \u001b[1;32mas\u001b[0m \u001b[0mmultipoint\u001b[0m\u001b[1;33m:\u001b[0m\u001b[1;33m\u001b[0m\u001b[0m\n\u001b[1;32m----> 2\u001b[1;33m     \u001b[0mmultipoint\u001b[0m\u001b[1;33m.\u001b[0m\u001b[0mread\u001b[0m\u001b[1;33m(\u001b[0m\u001b[1;34mr'C:\\Users\\v\\Anaconda3\\envs\\tensorflow\\projects\\endocytosis\\endocytosis\\test\\data\\test_multipoint_roi.zip'\u001b[0m\u001b[1;33m)\u001b[0m\u001b[1;33m\u001b[0m\u001b[0m\n\u001b[0m",
      "\u001b[1;32mc:\\users\\v\\anaconda3\\envs\\tensorflow\\projects\\endocytosis\\endocytosis\\io\\image\\roi\\roi_read.py\u001b[0m in \u001b[0;36mread\u001b[1;34m(self, path)\u001b[0m\n\u001b[0;32m    110\u001b[0m         \u001b[0mstreams\u001b[0m \u001b[1;33m=\u001b[0m \u001b[1;33m[\u001b[0m\u001b[0ms\u001b[0m \u001b[1;32mfor\u001b[0m \u001b[0ms\u001b[0m \u001b[1;32min\u001b[0m \u001b[0mstreams\u001b[0m \u001b[1;32mif\u001b[0m \u001b[0ms\u001b[0m\u001b[1;33m[\u001b[0m\u001b[1;33m:\u001b[0m\u001b[1;36m4\u001b[0m\u001b[1;33m]\u001b[0m \u001b[1;33m==\u001b[0m \u001b[1;34mb'Iout'\u001b[0m\u001b[1;33m]\u001b[0m\u001b[1;33m\u001b[0m\u001b[0m\n\u001b[0;32m    111\u001b[0m         \u001b[0mself\u001b[0m\u001b[1;33m.\u001b[0m\u001b[0mbytestreams\u001b[0m \u001b[1;33m=\u001b[0m \u001b[0mstreams\u001b[0m\u001b[1;33m\u001b[0m\u001b[0m\n\u001b[1;32m--> 112\u001b[1;33m         \u001b[0mself\u001b[0m\u001b[1;33m.\u001b[0m\u001b[0m_parse_bytestream\u001b[0m\u001b[1;33m(\u001b[0m\u001b[1;33m)\u001b[0m\u001b[1;33m\u001b[0m\u001b[0m\n\u001b[0m\u001b[0;32m    113\u001b[0m \u001b[1;33m\u001b[0m\u001b[0m\n\u001b[0;32m    114\u001b[0m     \u001b[1;32mdef\u001b[0m \u001b[0m_parse_bytestream\u001b[0m\u001b[1;33m(\u001b[0m\u001b[0mself\u001b[0m\u001b[1;33m)\u001b[0m\u001b[1;33m:\u001b[0m\u001b[1;33m\u001b[0m\u001b[0m\n",
      "\u001b[1;32mc:\\users\\v\\anaconda3\\envs\\tensorflow\\projects\\endocytosis\\endocytosis\\io\\image\\roi\\roi_read.py\u001b[0m in \u001b[0;36m_parse_bytestream\u001b[1;34m(self)\u001b[0m\n\u001b[0;32m    146\u001b[0m                 \u001b[0mself\u001b[0m\u001b[1;33m.\u001b[0m\u001b[0m_data\u001b[0m\u001b[1;33m[\u001b[0m\u001b[0mname\u001b[0m\u001b[1;33m[\u001b[0m\u001b[1;36m0\u001b[0m\u001b[1;33m]\u001b[0m\u001b[1;33m]\u001b[0m\u001b[1;33m.\u001b[0m\u001b[0mappend\u001b[0m\u001b[1;33m(\u001b[0m\u001b[0mROI\u001b[0m\u001b[1;33m(\u001b[0m\u001b[0mc\u001b[0m\u001b[1;33m,\u001b[0m \u001b[0mp\u001b[0m\u001b[1;33m,\u001b[0m \u001b[0mtyp\u001b[0m\u001b[1;33m)\u001b[0m\u001b[1;33m)\u001b[0m\u001b[1;33m\u001b[0m\u001b[0m\n\u001b[0;32m    147\u001b[0m             \u001b[1;32melse\u001b[0m\u001b[1;33m:\u001b[0m\u001b[1;33m\u001b[0m\u001b[0m\n\u001b[1;32m--> 148\u001b[1;33m                 \u001b[0mself\u001b[0m\u001b[1;33m.\u001b[0m\u001b[0m_data\u001b[0m\u001b[1;33m[\u001b[0m\u001b[0mname\u001b[0m\u001b[1;33m[\u001b[0m\u001b[1;36m0\u001b[0m\u001b[1;33m]\u001b[0m\u001b[1;33m]\u001b[0m \u001b[1;33m=\u001b[0m \u001b[0mROI\u001b[0m\u001b[1;33m(\u001b[0m\u001b[0mc\u001b[0m\u001b[1;33m,\u001b[0m \u001b[0mp\u001b[0m\u001b[1;33m,\u001b[0m \u001b[0mtyp\u001b[0m\u001b[1;33m)\u001b[0m\u001b[1;33m\u001b[0m\u001b[0m\n\u001b[0m\u001b[0;32m    149\u001b[0m \u001b[1;33m\u001b[0m\u001b[0m\n\u001b[0;32m    150\u001b[0m     \u001b[1;32mdef\u001b[0m \u001b[0m_get_names\u001b[0m\u001b[1;33m(\u001b[0m\u001b[0mself\u001b[0m\u001b[1;33m,\u001b[0m \u001b[0moffsets\u001b[0m\u001b[1;33m,\u001b[0m \u001b[0mlengths\u001b[0m\u001b[1;33m)\u001b[0m\u001b[1;33m:\u001b[0m\u001b[1;33m\u001b[0m\u001b[0m\n",
      "\u001b[1;32mc:\\users\\v\\anaconda3\\envs\\tensorflow\\projects\\endocytosis\\endocytosis\\io\\image\\roi\\roi_objects.py\u001b[0m in \u001b[0;36mROI\u001b[1;34m(common, coordinates, typ)\u001b[0m\n\u001b[0;32m    209\u001b[0m         \u001b[1;32mreturn\u001b[0m \u001b[0mnumber_to_roi_class\u001b[0m\u001b[1;33m[\u001b[0m\u001b[0mtyp\u001b[0m\u001b[1;33m]\u001b[0m\u001b[1;33m(\u001b[0m\u001b[0mcommon\u001b[0m\u001b[1;33m,\u001b[0m \u001b[0mcoordinates\u001b[0m\u001b[1;33m)\u001b[0m\u001b[1;33m\u001b[0m\u001b[0m\n\u001b[0;32m    210\u001b[0m     \u001b[1;32mexcept\u001b[0m \u001b[0mKeyError\u001b[0m\u001b[1;33m:\u001b[0m\u001b[1;33m\u001b[0m\u001b[0m\n\u001b[1;32m--> 211\u001b[1;33m         \u001b[1;32mreturn\u001b[0m \u001b[0m_BaseROI\u001b[0m\u001b[1;33m(\u001b[0m\u001b[0mcommon\u001b[0m\u001b[1;33m,\u001b[0m \u001b[0mcoordinates\u001b[0m\u001b[1;33m)\u001b[0m\u001b[1;33m\u001b[0m\u001b[0m\n\u001b[0m\u001b[0;32m    212\u001b[0m \u001b[1;33m\u001b[0m\u001b[0m\n\u001b[0;32m    213\u001b[0m \u001b[1;33m\u001b[0m\u001b[0m\n",
      "\u001b[1;31mTypeError\u001b[0m: object() takes no parameters"
     ]
    }
   ],
   "source": [
    "with roi_read.IJZipReader(regexp=r'.*[0-9](#x)?\\.roi$', sep=None) as multipoint:\n",
    "    multipoint.read(r'C:\\Users\\v\\Anaconda3\\envs\\tensorflow\\projects\\endocytosis\\endocytosis\\test\\data\\test_multipoint_roi.zip')"
   ]
  },
  {
   "cell_type": "code",
   "execution_count": 35,
   "metadata": {},
   "outputs": [],
   "source": [
    "bytestreams = multipoint.bytestreams"
   ]
  },
  {
   "cell_type": "code",
   "execution_count": 59,
   "metadata": {},
   "outputs": [],
   "source": [
    "hdr = np.recarray(2, dtype=HEADER_DTYPE, buf=b''.join([m[:64] for m in multipoint.bytestreams]))"
   ]
  },
  {
   "cell_type": "code",
   "execution_count": 64,
   "metadata": {},
   "outputs": [],
   "source": [
    "coords = [bs[64+n*2*2:64+n*2*6] for bs, n in zip(bytestreams, hdr['n_coordinates'])]"
   ]
  },
  {
   "cell_type": "code",
   "execution_count": 67,
   "metadata": {},
   "outputs": [],
   "source": [
    "y = [unpack('>'+ 'f'*(len(c)//8), c[:len(c)//2]) for c in coords]"
   ]
  },
  {
   "cell_type": "code",
   "execution_count": 68,
   "metadata": {},
   "outputs": [],
   "source": [
    "x = [unpack('>'+ 'f'*(len(c)//8), c[len(c)//2:]) for c in coords]"
   ]
  },
  {
   "cell_type": "code",
   "execution_count": 71,
   "metadata": {},
   "outputs": [
    {
     "name": "stdout",
     "output_type": "stream",
     "text": [
      "x: (398.6666564941406, 249.3333282470703, 285.3333435058594, 360.0, 402.66668701171875, 668.0, 410.66668701171875, 298.6666564941406, 194.6666717529297, 360.0, 750.6666870117188, 816.0, 422.66668701171875, 190.6666717529297, 301.3333435058594, 442.66668701171875, 597.3333129882812, 709.3333740234375)\n",
      "y: (408.0, 272.0, 273.3333435058594, 400.0, 502.66668701171875, 216.0, 633.3333740234375, 206.6666717529297, 497.33331298828125, 557.3333129882812, 561.3333129882812, 574.6666870117188, 605.3333129882812, 214.6666717529297, 397.33331298828125, 601.3333129882812, 281.3333435058594, 444.0)\n",
      "\n",
      "x: (398.6666564941406, 249.3333282470703, 285.3333435058594, 360.0, 402.66668701171875, 668.0, 410.66668701171875, 298.6666564941406, 194.6666717529297, 360.0, 750.6666870117188, 816.0, 422.66668701171875, 190.6666717529297, 301.3333435058594, 442.66668701171875, 597.3333129882812, 709.3333740234375, 386.66668701171875, 245.3333282470703, 592.0, 714.6666870117188, 446.66668701171875, 353.33331298828125, 682.6666870117188, 494.66668701171875, 370.66668701171875, 190.6666717529297)\n",
      "y: (408.0, 272.0, 273.3333435058594, 400.0, 502.66668701171875, 216.0, 633.3333740234375, 206.6666717529297, 497.33331298828125, 557.3333129882812, 561.3333129882812, 574.6666870117188, 605.3333129882812, 214.6666717529297, 397.33331298828125, 601.3333129882812, 281.3333435058594, 444.0, 330.6666564941406, 504.0, 714.6666870117188, 372.0, 378.66668701171875, 593.3333129882812, 546.6666870117188, 525.3333129882812, 794.6666870117188, 673.3333129882812)\n",
      "\n"
     ]
    }
   ],
   "source": [
    "for i, j in zip(x, y): \n",
    "    print('x: {}'.format(i))\n",
    "    print('y: {}'.format(j))\n",
    "    print('')"
   ]
  },
  {
   "cell_type": "code",
   "execution_count": 73,
   "metadata": {},
   "outputs": [],
   "source": [
    "hdr2 = np.recarray(2, dtype=HEADER2_DTYPE, buf=b''.join([bs[off:off+52] for bs, off in zip(bytestreams, hdr['hdr2_offset'])]))"
   ]
  },
  {
   "cell_type": "code",
   "execution_count": 74,
   "metadata": {},
   "outputs": [
    {
     "data": {
      "text/plain": [
       "rec.array([(1, 5,  3, 344, 14, 0, 0, 0, 0, 0, 0, 0, 372),\n",
       "           (1, 6, 61, 464, 14, 0, 0, 0, 0, 0, 0, 0, 492)],\n",
       "          dtype={'names':['c','z','t','name_offset','name_length','overlay_label_color','overlay_font_size','image_opacity','image_size','float_stroke_width','roi_props_offset','roi_props_length','counters_offset'], 'formats':['>i4','>i4','>i4','>i4','>i4','>i4','>i2','i1','>i4','>i4','>i4','>i4','>i4'], 'offsets':[4,8,12,16,20,24,28,31,32,36,40,44,48], 'itemsize':52})"
      ]
     },
     "execution_count": 74,
     "metadata": {},
     "output_type": "execute_result"
    }
   ],
   "source": [
    "hdr2"
   ]
  },
  {
   "cell_type": "code",
   "execution_count": 79,
   "metadata": {},
   "outputs": [],
   "source": [
    "off = 372\n",
    "n = 18\n",
    "bs = bytestreams[0]\n",
    "\n",
    "data = unpack('>'+'hbb'*(n-1) + 'hb', bs[off+1:off+n*4])\n",
    "positions = data[::3]\n",
    "counters = data[1::3]\n",
    "\n",
    "\n",
    "# unpack('>' + 'i'*18, bytestreams[0][372:372+18*4])"
   ]
  },
  {
   "cell_type": "code",
   "execution_count": 80,
   "metadata": {},
   "outputs": [
    {
     "data": {
      "text/plain": [
       "(0, 1, 2, 3, 4, 5, 6, 7, 8, 9, 10, 11, 12, 13, 14, 15, 16, 17)"
      ]
     },
     "execution_count": 80,
     "metadata": {},
     "output_type": "execute_result"
    }
   ],
   "source": [
    "positions"
   ]
  },
  {
   "cell_type": "code",
   "execution_count": 81,
   "metadata": {},
   "outputs": [
    {
     "data": {
      "text/plain": [
       "(0, 0, 0, 0, 0, 0, 0, 0, 0, 0, 0, 0, 0, 0, 0, 0, 0, 0)"
      ]
     },
     "execution_count": 81,
     "metadata": {},
     "output_type": "execute_result"
    }
   ],
   "source": [
    "counters"
   ]
  },
  {
   "cell_type": "code",
   "execution_count": 54,
   "metadata": {},
   "outputs": [
    {
     "data": {
      "text/plain": [
       "rec.array([(4391105, 19398665, 27983872, 19071327, 23265648, 26148872, 191, -117, 4915437, 13631547,  6226089, 13894109, 14418028),\n",
       "           (4391105, 19398665, 27983872, 19071327, 23265648, 26148872, 191, -117, 4915437,  8126761, 33292453, 11272579, 22282559)],\n",
       "          dtype={'names':['c','z','t','name_offset','name_length','overlay_label_color','overlay_font_size','image_opacity','image_size','float_stroke_width','roi_props_offset','roi_props_length','counters_offset'], 'formats':['>i4','>i4','>i4','>i4','>i4','>i4','>i2','i1','>i4','>i4','>i4','>i4','>i4'], 'offsets':[4,8,12,16,20,24,28,31,32,36,40,44,48], 'itemsize':52})"
      ]
     },
     "execution_count": 54,
     "metadata": {},
     "output_type": "execute_result"
    }
   ],
   "source": [
    "np.recarray(2, dtype=HEADER2_DTYPE, buf=b''.join([bs[off:off+52] for off, bs in zip(hdr['hdr2_offset'], multipoint.bytestreams)]))"
   ]
  },
  {
   "cell_type": "code",
   "execution_count": 121,
   "metadata": {},
   "outputs": [],
   "source": [
    "np.recarray.view?"
   ]
  },
  {
   "cell_type": "code",
   "execution_count": 125,
   "metadata": {},
   "outputs": [],
   "source": [
    "COLOR_DTYPE = np.dtype(dict(\n",
    "    names=['alpha', 'red', 'green', 'blue'],\n",
    "    offsets=[0, 1, 2, 3],\n",
    "    formats=['b', 'b', 'b', 'b']))"
   ]
  },
  {
   "cell_type": "code",
   "execution_count": 126,
   "metadata": {},
   "outputs": [
    {
     "data": {
      "text/plain": [
       "array([(0, -1, -1, -1)],\n",
       "      dtype=[('alpha', 'i1'), ('red', 'i1'), ('green', 'i1'), ('blue', 'i1')])"
      ]
     },
     "execution_count": 126,
     "metadata": {},
     "output_type": "execute_result"
    }
   ],
   "source": [
    "np.array([-256]).view(COLOR_DTYPE)"
   ]
  },
  {
   "cell_type": "code",
   "execution_count": 146,
   "metadata": {},
   "outputs": [
    {
     "data": {
      "text/plain": [
       "array([ True, False, False, False])"
      ]
     },
     "execution_count": 146,
     "metadata": {},
     "output_type": "execute_result"
    }
   ],
   "source": [
    "np.array([1, 0, 0, 0]).view(COLOR_DTYPE)['alpha'].view(bool)"
   ]
  },
  {
   "cell_type": "code",
   "execution_count": 140,
   "metadata": {},
   "outputs": [],
   "source": [
    "arr = np.array([True, False, False, False])"
   ]
  },
  {
   "cell_type": "code",
   "execution_count": 145,
   "metadata": {},
   "outputs": [
    {
     "data": {
      "text/plain": [
       "'|'"
      ]
     },
     "execution_count": 145,
     "metadata": {},
     "output_type": "execute_result"
    }
   ],
   "source": [
    "HEADER2_DTYPE.byteorder"
   ]
  },
  {
   "cell_type": "code",
   "execution_count": 147,
   "metadata": {},
   "outputs": [
    {
     "data": {
      "text/plain": [
       "dtype([('col1', '<i4'), ('col2', '<f4')])"
      ]
     },
     "execution_count": 147,
     "metadata": {},
     "output_type": "execute_result"
    }
   ],
   "source": [
    "np.dtype({'names': ['col1', 'col2'], 'formats': ['i4','f4']})"
   ]
  },
  {
   "cell_type": "code",
   "execution_count": 150,
   "metadata": {},
   "outputs": [
    {
     "ename": "TypeError",
     "evalue": "data type not understood",
     "output_type": "error",
     "traceback": [
      "\u001b[1;31m---------------------------------------------------------------------------\u001b[0m",
      "\u001b[1;31mTypeError\u001b[0m                                 Traceback (most recent call last)",
      "\u001b[1;32m<ipython-input-150-c4f299e00efb>\u001b[0m in \u001b[0;36m<module>\u001b[1;34m()\u001b[0m\n\u001b[1;32m----> 1\u001b[1;33m \u001b[0mnp\u001b[0m\u001b[1;33m.\u001b[0m\u001b[0mdtype\u001b[0m\u001b[1;33m(\u001b[0m\u001b[1;33m{\u001b[0m\u001b[1;34m'names'\u001b[0m\u001b[1;33m:\u001b[0m \u001b[1;33m[\u001b[0m\u001b[1;34m'col1'\u001b[0m\u001b[1;33m,\u001b[0m \u001b[1;33m[\u001b[0m\u001b[1;34m'new'\u001b[0m\u001b[1;33m,\u001b[0m \u001b[1;33m[\u001b[0m\u001b[1;34m'a'\u001b[0m\u001b[1;33m,\u001b[0m \u001b[1;34m'b'\u001b[0m\u001b[1;33m,\u001b[0m \u001b[1;34m'c'\u001b[0m\u001b[1;33m]\u001b[0m\u001b[1;33m]\u001b[0m\u001b[1;33m,\u001b[0m \u001b[1;34m'col2'\u001b[0m\u001b[1;33m]\u001b[0m\u001b[1;33m,\u001b[0m \u001b[1;34m'formats'\u001b[0m\u001b[1;33m:\u001b[0m \u001b[1;33m[\u001b[0m\u001b[1;34m'i4'\u001b[0m\u001b[1;33m,\u001b[0m \u001b[1;33m[\u001b[0m\u001b[1;34m'i4'\u001b[0m\u001b[1;33m,\u001b[0m \u001b[1;34m'i4'\u001b[0m\u001b[1;33m,\u001b[0m \u001b[1;34m'i4'\u001b[0m\u001b[1;33m]\u001b[0m\u001b[1;33m,\u001b[0m \u001b[1;34m'f4'\u001b[0m\u001b[1;33m]\u001b[0m\u001b[1;33m}\u001b[0m\u001b[1;33m)\u001b[0m\u001b[1;33m\u001b[0m\u001b[0m\n\u001b[0m",
      "\u001b[1;31mTypeError\u001b[0m: data type not understood"
     ]
    }
   ],
   "source": [
    "np.dtype({'names': ['col1', ['new', ['a', 'b', 'c']], 'col2'], 'formats': ['i4', ['i4', 'i4', 'i4'], 'f4']})"
   ]
  },
  {
   "cell_type": "code",
   "execution_count": 157,
   "metadata": {},
   "outputs": [],
   "source": [
    "import datetime"
   ]
  },
  {
   "cell_type": "code",
   "execution_count": 176,
   "metadata": {},
   "outputs": [],
   "source": [
    "d = datetime.date.today()"
   ]
  },
  {
   "cell_type": "code",
   "execution_count": 190,
   "metadata": {},
   "outputs": [
    {
     "data": {
      "text/plain": [
       "'736923'"
      ]
     },
     "execution_count": 190,
     "metadata": {},
     "output_type": "execute_result"
    }
   ],
   "source": [
    "str(d.toordinal())"
   ]
  },
  {
   "cell_type": "code",
   "execution_count": 188,
   "metadata": {},
   "outputs": [
    {
     "data": {
      "text/plain": [
       "(2947692,)"
      ]
     },
     "execution_count": 188,
     "metadata": {},
     "output_type": "execute_result"
    }
   ],
   "source": [
    "unpack('>i', pack('>i', d.toordinal()*4))"
   ]
  },
  {
   "cell_type": "code",
   "execution_count": 189,
   "metadata": {},
   "outputs": [
    {
     "data": {
      "text/plain": [
       "datetime.date(8071, 7, 4)"
      ]
     },
     "execution_count": 189,
     "metadata": {},
     "output_type": "execute_result"
    }
   ],
   "source": [
    "datetime.date.fromordinal(d.toordinal()*4)"
   ]
  },
  {
   "cell_type": "code",
   "execution_count": 195,
   "metadata": {},
   "outputs": [
    {
     "data": {
      "text/plain": [
       "'YYYYMMDD: 2018-08-17'"
      ]
     },
     "execution_count": 195,
     "metadata": {},
     "output_type": "execute_result"
    }
   ],
   "source": [
    "'YYYYMMDD: {}'.format(datetime.date.fromordinal(d.toordinal()))"
   ]
  },
  {
   "cell_type": "code",
   "execution_count": 197,
   "metadata": {},
   "outputs": [
    {
     "data": {
      "text/plain": [
       "2018"
      ]
     },
     "execution_count": 197,
     "metadata": {},
     "output_type": "execute_result"
    }
   ],
   "source": [
    "d.year"
   ]
  },
  {
   "cell_type": "code",
   "execution_count": 214,
   "metadata": {},
   "outputs": [],
   "source": [
    "author = b'Author of Package for encoding ImageJ ROI: Vladimir Shteyn\\n'"
   ]
  },
  {
   "cell_type": "code",
   "execution_count": 234,
   "metadata": {},
   "outputs": [
    {
     "data": {
      "text/plain": [
       "b'Iout\\x00\\xe3\\x02\\x00\\x03\\xc2\\x02\\xd7\\x03\\xc7\\x02\\xdc\\x00\\x00\\x00\\x00\\x00\\x00\\x00\\x00\\x00\\x00\\x00\\x00\\x00\\x00\\x00\\x00\\x00\\x00\\x00\\x00\\x00\\x00\\x00\\x00\\x00\\x00\\x00\\x00\\x00\\x00\\x00\\x00\\x00\\x00\\x00\\x00\\x00\\x00\\x00\\x00\\x00\\x00\\x00\\x00\\x00\\x00\\x00@\\x00\\x00\\x00\\x00\\x00\\x00\\x00\\x00\\x00\\x00\\x00\\x00\\x00\\x00\\x00\\x1e\\x00\\x00\\x00\\x80\\x00\\x00\\x00\\x10\\x00\\x00\\x00\\x00\\x00\\x00\\x00\\x00\\x00\\x00\\x00\\x00\\x00\\x00\\x00\\x00\\x00\\x00\\x00\\xa0\\x00\\x00\\x00^\\x00\\x00\\x00\\x00\\x00\\x00\\x00\\x00\\x00\\x00\\x00\\x00\\x00\\x00\\x00\\x00\\x000\\x000\\x003\\x000\\x00-\\x000\\x000\\x003\\x000\\x00-\\x000\\x009\\x006\\x004\\x00#\\x00x\\x00T\\x00M\\x00_\\x00Q\\x00u\\x00a\\x00l\\x00i\\x00t\\x00y\\x00:\\x00 \\x005\\x002\\x009\\x00.\\x005\\x004\\x009\\x006\\x002\\x001\\x005\\x008\\x002\\x000\\x003\\x001\\x002\\x00\\n\\x00T\\x00M\\x00_\\x00R\\x00a\\x00d\\x00i\\x00u\\x00s\\x00:\\x00 \\x000\\x00.\\x003\\x00\\n\\x00T\\x00M\\x00_\\x00X\\x00:\\x00 \\x009\\x004\\x00.\\x008\\x003\\x004\\x001\\x000\\x009\\x005\\x004\\x000\\x005\\x002\\x002\\x000\\x002\\x00\\n\\x00T\\x00M\\x00_\\x00Y\\x00:\\x00 \\x001\\x002\\x005\\x00.\\x003\\x009\\x004\\x004\\x003\\x008\\x000\\x008\\x004\\x009\\x000\\x004\\x005\\x001\\x00\\n'"
      ]
     },
     "execution_count": 234,
     "metadata": {},
     "output_type": "execute_result"
    }
   ],
   "source": [
    "bytestreams[0]"
   ]
  },
  {
   "cell_type": "code",
   "execution_count": 87,
   "metadata": {},
   "outputs": [
    {
     "data": {
      "text/plain": [
       "array([2.])"
      ]
     },
     "execution_count": 87,
     "metadata": {},
     "output_type": "execute_result"
    }
   ],
   "source": [
    "np.ceil(np.array((2.0,)))"
   ]
  },
  {
   "cell_type": "code",
   "execution_count": 94,
   "metadata": {},
   "outputs": [
    {
     "data": {
      "text/plain": [
       "128"
      ]
     },
     "execution_count": 94,
     "metadata": {},
     "output_type": "execute_result"
    }
   ],
   "source": [
    "256+128 & 128"
   ]
  },
  {
   "cell_type": "code",
   "execution_count": 95,
   "metadata": {},
   "outputs": [
    {
     "data": {
      "text/plain": [
       "b\"Iout\\x00\\xe3\\n\\x00\\x00\\xbe\\x00\\xce\\x031\\x02z\\x00\\x12\\x00\\x00\\x00\\x00\\x00\\x00\\x00\\x00\\x00\\x00\\x00\\x00\\x00\\x00\\x00\\x00\\x00\\x01\\x00\\x00\\x00\\x00\\xff\\xff\\xff\\x00\\x00\\x00\\x00\\x00\\x00\\x00\\x00\\x80\\x00\\x00\\x00\\x00\\x00\\x00\\x00\\x00\\x00\\x00\\x01\\x18\\x00\\xc9\\x00A\\x00C\\x00\\xc1\\x01(\\x00\\t\\x01\\xab\\x00\\x00\\x01#\\x01_\\x01c\\x01p\\x01\\x8f\\x00\\x08\\x00\\xbf\\x01\\x8b\\x00K\\x00\\xed\\x00\\xd0\\x00;\\x00_\\x00\\xa9\\x00\\xd4\\x01\\xdd\\x00\\xdc\\x00l\\x00\\x04\\x00\\xa9\\x020\\x02q\\x00\\xe8\\x00\\x00\\x00o\\x00\\xfc\\x01\\x97\\x02\\x07C\\xcc\\x00\\x00C\\x88\\x00\\x00C\\x88\\xaa\\xabC\\xc8\\x00\\x00C\\xfbUVCX\\x00\\x00D\\x1eUVCN\\xaa\\xabC\\xf8\\xaa\\xaaD\\x0bUUD\\x0cUUD\\x0f\\xaa\\xabD\\x17UUCV\\xaa\\xabC\\xc6\\xaa\\xaaD\\x16UUC\\x8c\\xaa\\xabC\\xde\\x00\\x00C\\xc7UUCyUUC\\x8e\\xaa\\xabC\\xb4\\x00\\x00C\\xc9UVD'\\x00\\x00C\\xcdUVC\\x95UUCB\\xaa\\xabC\\xb4\\x00\\x00D;\\xaa\\xabDL\\x00\\x00C\\xd3UVC>\\xaa\\xabC\\x96\\xaa\\xabC\\xddUVD\\x15UUD1UV\\x00\\x00\\x00\\x00\\x00\\x00\\x00\\x01\\x00\\x00\\x00\\x05\\x00\\x00\\x00\\x03\\x00\\x00\\x01X\\x00\\x00\\x00\\x0e\\x00\\x00\\x00\\x00\\x00\\x00\\x00\\x00\\x00\\x00\\x00\\x00\\x00\\x00\\x00\\x00\\x00\\x00\\x00\\x00\\x00\\x00\\x00\\x00\\x00\\x00\\x01t\\x00\\x00\\x00\\x00\\x00\\x00\\x00\\x00\\x00\\x00\\x00\\x00\\x000\\x000\\x001\\x007\\x00-\\x000\\x005\\x000\\x003\\x00-\\x000\\x004\\x002\\x000\\x00\\x00\\x00\\x00\\x00\\x00\\x01\\x00\\x00\\x00\\x02\\x00\\x00\\x00\\x03\\x00\\x00\\x00\\x04\\x00\\x00\\x00\\x05\\x00\\x00\\x00\\x06\\x00\\x00\\x00\\x07\\x00\\x00\\x00\\x08\\x00\\x00\\x00\\t\\x00\\x00\\x00\\n\\x00\\x00\\x00\\x0b\\x00\\x00\\x00\\x0c\\x00\\x00\\x00\\r\\x00\\x00\\x00\\x0e\\x00\\x00\\x00\\x0f\\x00\\x00\\x00\\x10\\x00\\x00\\x00\\x11\\x00Iout\\x00\\xe3\\n\\x00\\x00\\xbe\\x00\\xce\\x031\\x03\\x1c\\x00\\x1c\\x00\\x00\\x00\\x00\\x00\\x00\\x00\\x00\\x00\\x00\\x00\\x00\\x00\\x00\\x00\\x00\\x00\\x01\\x00\\x00\\x00\\x00\\xff\\xff\\xff\\x00\\x00\\x00\\x00\\x00\\x00\\x00\\x00\\x80\\x00\\x00\\x00\\x00\\x00\\x00\\x00\\x00\\x00\\x00\\x01\\x90\\x00\\xc9\\x00A\\x00C\\x00\\xc1\\x01(\\x00\\t\\x01\\xab\\x00\\x00\\x01#\\x01_\\x01c\\x01p\\x01\\x8f\\x00\\x08\\x00\\xbf\\x01\\x8b\\x00K\\x00\\xed\\x00|\\x01)\\x01\\xfc\\x00\\xa5\\x00\\xac\\x01\\x83\\x01T\\x01?\\x02L\\x01\\xd3\\x00\\xd0\\x00;\\x00_\\x00\\xa9\\x00\\xd4\\x01\\xdd\\x00\\xdc\\x00l\\x00\\x04\\x00\\xa9\\x020\\x02q\\x00\\xe8\\x00\\x00\\x00o\\x00\\xfc\\x01\\x97\\x02\\x07\\x00\\xc4\\x007\\x01\\x91\\x02\\x0c\\x01\\x00\\x00\\xa3\\x01\\xec\\x010\\x00\\xb4\\x00\\x00C\\xcc\\x00\\x00C\\x88\\x00\\x00C\\x88\\xaa\\xabC\\xc8\\x00\\x00C\\xfbUVCX\\x00\\x00D\\x1eUVCN\\xaa\\xabC\\xf8\\xaa\\xaaD\\x0bUUD\\x0cUUD\\x0f\\xaa\\xabD\\x17UUCV\\xaa\\xabC\\xc6\\xaa\\xaaD\\x16UUC\\x8c\\xaa\\xabC\\xde\\x00\\x00C\\xa5UUC\\xfc\\x00\\x00D2\\xaa\\xabC\\xba\\x00\\x00C\\xbdUVD\\x14UUD\\x08\\xaa\\xabD\\x03UUDF\\xaa\\xabD(UUC\\xc7UUCyUUC\\x8e\\xaa\\xabC\\xb4\\x00\\x00C\\xc9UVD'\\x00\\x00C\\xcdUVC\\x95UUCB\\xaa\\xabC\\xb4\\x00\\x00D;\\xaa\\xabDL\\x00\\x00C\\xd3UVC>\\xaa\\xabC\\x96\\xaa\\xabC\\xddUVD\\x15UUD1UVC\\xc1UVCuUUD\\x14\\x00\\x00D2\\xaa\\xabC\\xdfUVC\\xb0\\xaa\\xaaD*\\xaa\\xabC\\xf7UVC\\xb9UVC>\\xaa\\xab\\x00\\x00\\x00\\x00\\x00\\x00\\x00\\x01\\x00\\x00\\x00\\x06\\x00\\x00\\x00=\\x00\\x00\\x01\\xd0\\x00\\x00\\x00\\x0e\\x00\\x00\\x00\\x00\\x00\\x00\\x00\\x00\\x00\\x00\\x00\\x00\\x00\\x00\\x00\\x00\\x00\\x00\\x00\\x00\\x00\\x00\\x00\\x00\\x00\\x00\\x01\\xec\\x00\\x00\\x00\\x00\\x00\\x00\\x00\\x00\\x00\\x00\\x00\\x00\\x000\\x003\\x006\\x006\\x00-\\x000\\x005\\x000\\x003\\x00-\\x000\\x005\\x000\\x001\\x00\\x00\\x00\\x00\\x00\\x00\\x01\\x00\\x00\\x00\\x02\\x00\\x00\\x00\\x03\\x00\\x00\\x00\\x04\\x00\\x00\\x00\\x05\\x00\\x00\\x00\\x06\\x00\\x00\\x00\\x07\\x00\\x00\\x00\\x08\\x00\\x00\\x00\\t\\x00\\x00\\x00\\n\\x00\\x00\\x00\\x0b\\x00\\x00\\x00\\x0c\\x00\\x00\\x00\\r\\x00\\x00\\x00\\x0e\\x00\\x00\\x00\\x0f\\x00\\x00\\x00\\x10\\x00\\x00\\x00\\x11\\x00\\x00\\x01n\\x00\\x00\\x01n\\x00\\x00\\x01n\\x00\\x00\\x01n\\x00\\x00\\x01n\\x00\\x00\\x01n\\x00\\x00\\x01n\\x00\\x00\\x01n\\x00\\x00\\x01n\\x00\\x00\\x01n\\x00\""
      ]
     },
     "execution_count": 95,
     "metadata": {},
     "output_type": "execute_result"
    }
   ],
   "source": [
    "bytestreams[0] + bytestreams[1]"
   ]
  },
  {
   "cell_type": "code",
   "execution_count": 99,
   "metadata": {},
   "outputs": [
    {
     "data": {
      "text/plain": [
       "rec.array([(227, 10), (227, 10)],\n",
       "          dtype=[('version', '>i2'), ('type', '<i2')])"
      ]
     },
     "execution_count": 99,
     "metadata": {},
     "output_type": "execute_result"
    }
   ],
   "source": [
    "hdr[['version', 'type']]"
   ]
  },
  {
   "cell_type": "code",
   "execution_count": 103,
   "metadata": {},
   "outputs": [],
   "source": [
    "multipoint.cleanup()"
   ]
  },
  {
   "cell_type": "code",
   "execution_count": 104,
   "metadata": {},
   "outputs": [
    {
     "data": {
      "text/plain": [
       "<bound method ZipFile.open of <zipfile.ZipFile [closed]>>"
      ]
     },
     "execution_count": 104,
     "metadata": {},
     "output_type": "execute_result"
    }
   ],
   "source": [
    "multipoint._file.open"
   ]
  },
  {
   "cell_type": "code",
   "execution_count": null,
   "metadata": {},
   "outputs": [],
   "source": []
  }
 ],
 "metadata": {
  "kernelspec": {
   "display_name": "Python (tensorflow)",
   "language": "python",
   "name": "tensorflow"
  },
  "language_info": {
   "codemirror_mode": {
    "name": "ipython",
    "version": 3
   },
   "file_extension": ".py",
   "mimetype": "text/x-python",
   "name": "python",
   "nbconvert_exporter": "python",
   "pygments_lexer": "ipython3",
   "version": "3.6.6"
  }
 },
 "nbformat": 4,
 "nbformat_minor": 2
}
