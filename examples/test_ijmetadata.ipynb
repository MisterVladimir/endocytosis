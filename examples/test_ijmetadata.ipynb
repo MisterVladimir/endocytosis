{
 "cells": [
  {
   "cell_type": "code",
   "execution_count": 1,
   "metadata": {},
   "outputs": [],
   "source": [
    "import numpy as np\n",
    "import glob\n",
    "import os\n",
    "\n",
    "import endocytosis.contrib.gohlke.tifffile as tifffile\n",
    "import endocytosis.io.path as path\n",
    "import endocytosis.io.image.roi.file_reading as file_reading"
   ]
  },
  {
   "cell_type": "code",
   "execution_count": 2,
   "metadata": {},
   "outputs": [],
   "source": [
    "folder = r\"D:\\endocytosis_data_subset\\2016-12-14 iso\\2016-12-14 Sp57 proto 003\"\n",
    "filepaths = glob.glob(folder + os.path.sep + '*.tif')"
   ]
  },
  {
   "cell_type": "code",
   "execution_count": 3,
   "metadata": {},
   "outputs": [
    {
     "data": {
      "text/plain": [
       "['D:\\\\endocytosis_data_subset\\\\2016-12-14 iso\\\\2016-12-14 Sp57 proto 003\\\\2016-12-14 Sp57 proto 003.tif']"
      ]
     },
     "execution_count": 3,
     "metadata": {},
     "output_type": "execute_result"
    }
   ],
   "source": [
    "filepaths"
   ]
  },
  {
   "cell_type": "code",
   "execution_count": 4,
   "metadata": {},
   "outputs": [],
   "source": [
    "im = tifffile.TiffFile(filepaths[0])"
   ]
  },
  {
   "cell_type": "code",
   "execution_count": 138,
   "metadata": {},
   "outputs": [],
   "source": [
    "# test endocytosis/io/image/metadata/ijmetadata.py\n",
    "data = im.imagej_metadata"
   ]
  },
  {
   "cell_type": "code",
   "execution_count": 142,
   "metadata": {},
   "outputs": [
    {
     "data": {
      "text/plain": [
       "{'filename': 'filename.tif',\n",
       " 'DimensionOrder': 'XYCZT',\n",
       " 'SizeC': '1',\n",
       " 'SizeT': '61',\n",
       " 'SizeX': '1024',\n",
       " 'SizeY': '1024',\n",
       " 'SizeZ': '6',\n",
       " 'pixelsize': 0.13000013000013,\n",
       " 'unit': 'um'}"
      ]
     },
     "execution_count": 142,
     "metadata": {},
     "output_type": "execute_result"
    }
   ],
   "source": [
    "def to_dict(filename, data):\n",
    "    \"\"\"\n",
    "    Convert IMJMetadata to dictionary.\n",
    "    \"\"\"\n",
    "    unused_keys = \\\n",
    "        [' BitsPerPixel', ' IsInterleaved', ' IsRGB', ' LittleEndian',\n",
    "         ' PixelType', ' Series 0 Name', 'Info', 'Labels']\n",
    "\n",
    "    unit_conversion = {'microns': 'um', 'nanometers': 'nm',\n",
    "                       'picometers': 'pm'}\n",
    "\n",
    "    info = data['Info'].split('\\n')[:12]\n",
    "    info = dict([item.split(' = ') for item in info])\n",
    "    ret = {'filename': filename}\n",
    "    ret.update({k.strip(): v for k, v in info.items() if k not in unused_keys})\n",
    "    # replace 'spacing' key with 'pixelsize'\n",
    "    ret.update({'pixelsize': data['spacing']})\n",
    "\n",
    "    # replace 'microns' with 'um', 'nanometers' with 'nm', etc.\n",
    "    if data['unit'] in unit_conversion.keys():\n",
    "        ret['unit'] = unit_conversion[data['unit']]\n",
    "\n",
    "    return ret\n",
    "\n",
    "to_dict('filename.tif', data)"
   ]
  },
  {
   "cell_type": "code",
   "execution_count": null,
   "metadata": {},
   "outputs": [],
   "source": []
  }
 ],
 "metadata": {
  "kernelspec": {
   "display_name": "Python (tensorflow)",
   "language": "python",
   "name": "tensorflow"
  },
  "language_info": {
   "codemirror_mode": {
    "name": "ipython",
    "version": 3
   },
   "file_extension": ".py",
   "mimetype": "text/x-python",
   "name": "python",
   "nbconvert_exporter": "python",
   "pygments_lexer": "ipython3",
   "version": "3.6.6"
  }
 },
 "nbformat": 4,
 "nbformat_minor": 2
}
